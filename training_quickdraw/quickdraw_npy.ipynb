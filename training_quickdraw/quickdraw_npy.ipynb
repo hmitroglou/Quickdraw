{
 "cells": [
  {
   "cell_type": "code",
   "execution_count": 2,
   "metadata": {},
   "outputs": [
    {
     "name": "stdout",
     "output_type": "stream",
     "text": [
      "WARNING: 'conda clean --source-cache' is deprecated.\n",
      "    Use 'conda build purge-all' to remove source cache files.\n",
      "Cache location: \n",
      "There are no tarballs to remove\n",
      "WARNING: /Users/babi/.conda/pkgs does not exist\n",
      "Cache location: \n",
      "There are no unused packages to remove\n",
      "\n",
      "Note: you may need to restart the kernel to use updated packages.\n"
     ]
    }
   ],
   "source": [
    "conda clean -tipsy"
   ]
  },
  {
   "cell_type": "code",
   "execution_count": 1,
   "metadata": {},
   "outputs": [
    {
     "name": "stdout",
     "output_type": "stream",
     "text": [
      "/Users/babi/Documents/GitHub/Quickdraw1/training_quickdraw\n",
      "2.4.0\n"
     ]
    }
   ],
   "source": [
    "import tensorflow as tf\n",
    "#import tensorflow_datasets as tfds\n",
    "#from sklearn.model_selection import train_test_split\n",
    "\n",
    "import numpy as np\n",
    "from numpy import asarray\n",
    "import matplotlib.pyplot as plt \n",
    "from matplotlib import image\n",
    "import random as rd\n",
    "import math as m\n",
    "from PIL import Image\n",
    "import random\n",
    "\n",
    "from sklearn.model_selection import train_test_split\n",
    "from sklearn.utils import shuffle\n",
    "\n",
    "import requests as req\n",
    "#import npzviewer\n",
    "#import wget\n",
    "#from bs4 import BeautifulSoup\n",
    "import csv\n",
    "\n",
    "import os\n",
    "print(os.getcwd())\n",
    "\n",
    "#from google.cloud import storage\n",
    "#client = storage.Client()\n",
    "import copy\n",
    "#pip install --user google-cloud-storage\n",
    "\n",
    "print(tf.__version__)\n",
    "\n"
   ]
  },
  {
   "cell_type": "code",
   "execution_count": 2,
   "metadata": {},
   "outputs": [],
   "source": [
    "def download_data(categories,number_of_samples):\n",
    "\n",
    "    number_of_categories = len(categories)\n",
    "    data = np.array([], dtype=np.int64).reshape(0,784)\n",
    "    for i in range(number_of_categories):\n",
    "        filename = cats[i][0] + '.npy'\n",
    "        filename = filename.replace(\" \",\"%20\")\n",
    "        \n",
    "        url = 'https://storage.googleapis.com/quickdraw_dataset/full/numpy_bitmap/'+filename\n",
    "        \n",
    "        r = req.get(url, allow_redirects=True)\n",
    "        #filename = os.path.basename(url)\n",
    "        #filename = filename.replace(\"%20\",\"\")\n",
    "        open(filename, 'wb').write(r.content)\n",
    "        \n",
    "        data = np.vstack([data,load_data(filename,number_of_samples)])\n",
    "        \n",
    "        os.remove(filename)\n",
    "        print(i+1,'/',number_of_categories,' ',filename.replace(\"%20\",\"\"))\n",
    "    return data\n",
    "\n",
    "def load_data(name,n):\n",
    "    filename = name\n",
    "    label = name\n",
    "    data = np.load(filename)\n",
    "    #data = np.ndarray.reshape(data,len(data),28,28)\n",
    "    return data[0:n,:]\n",
    "\n",
    "#randomize data and labels\n",
    "def randomize_data(data,labels,seed):\n",
    "    np.random.seed(seed)\n",
    "    np.random.shuffle(data)\n",
    "    np.random.seed(seed)\n",
    "    np.random.shuffle(cat_id)"
   ]
  },
  {
   "cell_type": "code",
   "execution_count": 3,
   "metadata": {},
   "outputs": [],
   "source": [
    "def shuff(data,label,seed):\n",
    "    \n",
    "    s = np.shape(data)\n",
    "    n = s[0]\n",
    "    \n",
    "    l = len(label)\n",
    "    label_new = np.zeros(l)\n",
    "    \n",
    "    if len(2*s)==2:\n",
    "        d = 1\n",
    "        m = 1\n",
    "        data_new = np.zeros((n,m))\n",
    "\n",
    "    elif len(2*s)==4:\n",
    "        d = 2\n",
    "        m = s[1]\n",
    "        data_new = np.zeros((n,m))\n",
    "    \n",
    "    \n",
    "    l1 = list(range(n))\n",
    "    l2 = list(range(n))\n",
    "    random.seed(seed)\n",
    "    np.random.shuffle(l1)\n",
    "    random.seed(seed)\n",
    "    np.random.shuffle(l2)   \n",
    "    \n",
    "    for i in range(n):\n",
    "        data_new[i] = data[l1[i]]\n",
    "        label_new[i] = int(label[l2[i]])\n",
    "        \n",
    "    return data_new, label_new\n",
    "\n",
    "    \n"
   ]
  },
  {
   "cell_type": "code",
   "execution_count": 6,
   "metadata": {
    "scrolled": false
   },
   "outputs": [],
   "source": [
    "x = [random.randint(0, 345) for p in range(0, 10)]\n",
    "\n",
    "#load categories\n",
    "cats = open(\"categories.txt\",'r')\n",
    "reader = csv.reader(cats)\n",
    "cats = [row for row in reader]\n",
    "cats = [cats[row] for row in x] #random categories\n",
    "\n",
    "number_of_categories = len(cats)\n",
    "number_of_samples = 1000\n",
    "\n",
    "#load data from google storage\n",
    "#d = download_data(cats[0:number_of_categories],number_of_samples)\n",
    "#filename = 'data_{}_{}.csv'.format(number_of_categories,number_of_samples)\n",
    "#np.savetxt(filename, d, delimiter=',')\n",
    "#filename = 'cat_{}_{}.csv'.format(number_of_categories,number_of_samples)\n",
    "#np.savetxt(filename, cats, delimiter=',')\n",
    "\n",
    "\n",
    "#load data from file\n",
    "filename = 'data_{}_{}.csv'.format(number_of_categories,number_of_samples)\n",
    "d = np.loadtxt(filename, delimiter=',')\n",
    "filename = 'cat_{}_{}.csv'.format(number_of_categories,number_of_samples)\n",
    "#cats = np.loadtxt(filename, delimiter=',')\n",
    "\n",
    "cat_id = np.repeat(range(number_of_categories),number_of_samples)+1\n",
    "\n",
    "#data = np.reshape(d,(len(d),28,28))\n",
    "\n",
    "#reshape data into 28x28\n",
    "#data = d.copy()\n",
    "#data = np.reshape(data,(len(d),28,28))\n",
    "\n"
   ]
  },
  {
   "cell_type": "code",
   "execution_count": 7,
   "metadata": {},
   "outputs": [
    {
     "data": {
      "text/plain": [
       "[['fire hydrant'],\n",
       " ['cow'],\n",
       " ['remote control'],\n",
       " ['shorts'],\n",
       " ['potato'],\n",
       " ['bread'],\n",
       " ['bucket'],\n",
       " ['windmill'],\n",
       " ['bus'],\n",
       " ['tiger']]"
      ]
     },
     "execution_count": 7,
     "metadata": {},
     "output_type": "execute_result"
    }
   ],
   "source": [
    "cats"
   ]
  },
  {
   "cell_type": "code",
   "execution_count": 8,
   "metadata": {},
   "outputs": [
    {
     "name": "stdout",
     "output_type": "stream",
     "text": [
      "(10000, 28, 28)   (10000,)\n"
     ]
    }
   ],
   "source": [
    "#Shuffle data\n",
    "data,cat_id = shuff(d,cat_id,13)\n",
    "data = np.reshape(data,(len(data),28,28))\n",
    "print(np.shape(data),' ',np.shape(cat_id))\n"
   ]
  },
  {
   "cell_type": "code",
   "execution_count": 9,
   "metadata": {},
   "outputs": [
    {
     "name": "stdout",
     "output_type": "stream",
     "text": [
      "Train-Set:  Samples 8000 8000\n",
      "Test-Set:  Samples 2000 2000\n"
     ]
    }
   ],
   "source": [
    "#split data\n",
    "training = 0.8\n",
    "test = 1.-training\n",
    "\n",
    "x_train = data[0:m.floor(training*len(data))]/ 255.0\n",
    "y_train = cat_id[0:m.floor(training*len(cat_id))]\n",
    "\n",
    "x_test = data[m.ceil(training*len(data)):len(data)]/ 255.0\n",
    "y_test = cat_id[m.ceil(training*len(cat_id)):len(cat_id)]\n",
    "\n",
    "print('Train-Set: ','Samples',np.shape(x_train)[0], np.shape(y_train)[0])\n",
    "print('Test-Set: ','Samples',np.shape(x_test)[0], np.shape(y_test)[0])"
   ]
  },
  {
   "cell_type": "code",
   "execution_count": 10,
   "metadata": {},
   "outputs": [
    {
     "name": "stdout",
     "output_type": "stream",
     "text": [
      "['bus'] 2122\n"
     ]
    },
    {
     "data": {
      "image/png": "[encoded data removed]",
      "text/plain": [
       "<Figure size 432x288 with 1 Axes>"
      ]
     },
     "metadata": {
      "needs_background": "light"
     },
     "output_type": "display_data"
    }
   ],
   "source": [
    "#TEST Show\n",
    "i=rd.randint(1,len(x_train))\n",
    "plt.imshow(x_train[i])\n",
    "print(cats[int(cat_id[i]-1)],i)"
   ]
  },
  {
   "cell_type": "code",
   "execution_count": null,
   "metadata": {},
   "outputs": [
    {
     "name": "stdout",
     "output_type": "stream",
     "text": [
      "Epoch 1/10\n"
     ]
    }
   ],
   "source": [
    "model = tf.keras.models.Sequential([\n",
    "  tf.keras.layers.Flatten(input_shape=(28, 28)),\n",
    "  tf.keras.layers.Dense(128, activation='relu'),\n",
    "  tf.keras.layers.Dropout(0.2),\n",
    "  tf.keras.layers.Dense(10),\n",
    "  tf.keras.layers.Softmax()\n",
    "])\n",
    "\n",
    "#define lossfunction\n",
    "loss_fn = tf.keras.losses.SparseCategoricalCrossentropy(from_logits=True)\n",
    "\n",
    "# Compile: set optimizer, lossfunction, error metric\n",
    "model.compile(optimizer='adam',\n",
    "              loss=loss_fn,\n",
    "              metrics=['accuracy'])\n",
    "\n",
    "#train the model\n",
    "model.fit(x_train, y_train,batch_size = 50, epochs=10)"
   ]
  },
  {
   "cell_type": "code",
   "execution_count": 11,
   "metadata": {},
   "outputs": [
    {
     "data": {
      "text/plain": [
       "160.0"
      ]
     },
     "execution_count": 11,
     "metadata": {},
     "output_type": "execute_result"
    }
   ],
   "source": [
    "batch_size = 50\n",
    "len(x_train)/batch_size"
   ]
  },
  {
   "cell_type": "code",
   "execution_count": 41,
   "metadata": {},
   "outputs": [
    {
     "name": "stdout",
     "output_type": "stream",
     "text": [
      "32/32 - 0s - loss: 2.2234 - accuracy: 0.2110\n"
     ]
    }
   ],
   "source": [
    "model.evaluate(x_test,  y_test, verbose=2);"
   ]
  },
  {
   "cell_type": "code",
   "execution_count": 2,
   "metadata": {},
   "outputs": [
    {
     "ename": "NameError",
     "evalue": "name 'tf' is not defined",
     "output_type": "error",
     "traceback": [
      "\u001b[0;31m---------------------------------------------------------------------------\u001b[0m",
      "\u001b[0;31mNameError\u001b[0m                                 Traceback (most recent call last)",
      "\u001b[0;32m<ipython-input-2-2ad7fbba65de>\u001b[0m in \u001b[0;36m<module>\u001b[0;34m\u001b[0m\n\u001b[0;32m----> 1\u001b[0;31m model = tf.keras.models.Sequential([\n\u001b[0m\u001b[1;32m      2\u001b[0m   \u001b[0mtf\u001b[0m\u001b[0;34m.\u001b[0m\u001b[0mkeras\u001b[0m\u001b[0;34m.\u001b[0m\u001b[0mlayers\u001b[0m\u001b[0;34m.\u001b[0m\u001b[0mFlatten\u001b[0m\u001b[0;34m(\u001b[0m\u001b[0minput_shape\u001b[0m\u001b[0;34m=\u001b[0m\u001b[0;34m(\u001b[0m\u001b[0;36m28\u001b[0m\u001b[0;34m,\u001b[0m \u001b[0;36m28\u001b[0m\u001b[0;34m)\u001b[0m\u001b[0;34m)\u001b[0m\u001b[0;34m,\u001b[0m\u001b[0;34m\u001b[0m\u001b[0;34m\u001b[0m\u001b[0m\n\u001b[1;32m      3\u001b[0m   \u001b[0mtf\u001b[0m\u001b[0;34m.\u001b[0m\u001b[0mkeras\u001b[0m\u001b[0;34m.\u001b[0m\u001b[0mlayers\u001b[0m\u001b[0;34m.\u001b[0m\u001b[0mDense\u001b[0m\u001b[0;34m(\u001b[0m\u001b[0;36m128\u001b[0m\u001b[0;34m,\u001b[0m \u001b[0mactivation\u001b[0m\u001b[0;34m=\u001b[0m\u001b[0;34m'relu'\u001b[0m\u001b[0;34m)\u001b[0m\u001b[0;34m,\u001b[0m\u001b[0;34m\u001b[0m\u001b[0;34m\u001b[0m\u001b[0m\n\u001b[1;32m      4\u001b[0m   \u001b[0mtf\u001b[0m\u001b[0;34m.\u001b[0m\u001b[0mkeras\u001b[0m\u001b[0;34m.\u001b[0m\u001b[0mlayers\u001b[0m\u001b[0;34m.\u001b[0m\u001b[0mDropout\u001b[0m\u001b[0;34m(\u001b[0m\u001b[0;36m0.2\u001b[0m\u001b[0;34m)\u001b[0m\u001b[0;34m,\u001b[0m\u001b[0;34m\u001b[0m\u001b[0;34m\u001b[0m\u001b[0m\n\u001b[1;32m      5\u001b[0m   \u001b[0mtf\u001b[0m\u001b[0;34m.\u001b[0m\u001b[0mkeras\u001b[0m\u001b[0;34m.\u001b[0m\u001b[0mlayers\u001b[0m\u001b[0;34m.\u001b[0m\u001b[0mDense\u001b[0m\u001b[0;34m(\u001b[0m\u001b[0mnumber_of_categories\u001b[0m\u001b[0;34m)\u001b[0m\u001b[0;34m,\u001b[0m\u001b[0;34m\u001b[0m\u001b[0;34m\u001b[0m\u001b[0m\n",
      "\u001b[0;31mNameError\u001b[0m: name 'tf' is not defined"
     ]
    }
   ],
   "source": [
    "model = tf.keras.models.Sequential([\n",
    "  tf.keras.layers.Flatten(input_shape=(28, 28)),\n",
    "  tf.keras.layers.Dense(128, activation='relu'),\n",
    "  tf.keras.layers.Dropout(0.2),\n",
    "  tf.keras.layers.Dense(number_of_categories),\n",
    "  tf.keras.layers.Softmax()\n",
    "])\n",
    "\n",
    "#define lossfunction\n",
    "loss_fn = tf.keras.losses.SparseCategoricalCrossentropy(from_logits=True)\n",
    "\n",
    "\n",
    "# Compile and Fit in Batches\n",
    "x_train_len = len(x_train)\n",
    "y_train_len = len(y_train)\n",
    "#x_test_len = len(x_test)\n",
    "#y_test_len = len(y_test)\n",
    "\n",
    "batches = int(number_of_categories*number_of_samples/10)\n",
    "end = -1\n",
    "for i in range(batches):\n",
    "    \n",
    "    start = int(end+1)\n",
    "    end = int((i+1)*1/batches*x_train_len)\n",
    "    \n",
    "    x_train2 = x_train[start:end,:,:].copy()\n",
    "    y_train2 = y_train[start:end].copy()\n",
    "    #x_test = x_test[start:end,:]\n",
    "    #y_test = y_test[start:end]\n",
    "\n",
    "    # Run with new data\n",
    "    model.compile(optimizer='adam',\n",
    "                  loss=loss_fn,\n",
    "                  metrics=['accuracy'])\n",
    "    \n",
    "    if i%10:\n",
    "        print('Batch No. ',i,'/',batches)\n",
    "    model.fit(x_train2, y_train2, epochs=5, verbose=0)"
   ]
  },
  {
   "cell_type": "code",
   "execution_count": null,
   "metadata": {},
   "outputs": [
    {
     "name": "stdout",
     "output_type": "stream",
     "text": [
      "Epoch 1/5\n"
     ]
    }
   ],
   "source": [
    "model = tf.keras.models.Sequential([\n",
    "  tf.keras.layers.Flatten(input_shape=(28, 28)),\n",
    "  tf.keras.layers.Dense(128, activation='relu'),\n",
    "  tf.keras.layers.Dropout(0.2),\n",
    "  tf.keras.layers.Dense(number_of_categories),\n",
    "  tf.keras.layers.Softmax()\n",
    "])\n",
    "\n",
    "#define lossfunction\n",
    "loss_fn = tf.keras.losses.SparseCategoricalCrossentropy(from_logits=True)\n",
    "\n",
    "# Run with new data\n",
    "model.compile(optimizer='adam',\n",
    "              loss=loss_fn,\n",
    "              metrics=['accuracy'])\n",
    "model.fit(x_train2, y_train2, batch_size=5, epochs=5)"
   ]
  },
  {
   "cell_type": "code",
   "execution_count": 1,
   "metadata": {},
   "outputs": [
    {
     "ename": "NameError",
     "evalue": "name 'model' is not defined",
     "output_type": "error",
     "traceback": [
      "\u001b[0;31m---------------------------------------------------------------------------\u001b[0m",
      "\u001b[0;31mNameError\u001b[0m                                 Traceback (most recent call last)",
      "\u001b[0;32m<ipython-input-1-959294c93992>\u001b[0m in \u001b[0;36m<module>\u001b[0;34m\u001b[0m\n\u001b[0;32m----> 1\u001b[0;31m \u001b[0mmodel\u001b[0m\u001b[0;34m.\u001b[0m\u001b[0mevaluate\u001b[0m\u001b[0;34m(\u001b[0m\u001b[0mx_test\u001b[0m\u001b[0;34m,\u001b[0m  \u001b[0my_test\u001b[0m\u001b[0;34m,\u001b[0m \u001b[0mverbose\u001b[0m\u001b[0;34m=\u001b[0m\u001b[0;36m2\u001b[0m\u001b[0;34m)\u001b[0m\u001b[0;34m;\u001b[0m\u001b[0;34m\u001b[0m\u001b[0;34m\u001b[0m\u001b[0m\n\u001b[0m",
      "\u001b[0;31mNameError\u001b[0m: name 'model' is not defined"
     ]
    }
   ],
   "source": [
    "model.evaluate(x_test,  y_test, verbose=2);"
   ]
  },
  {
   "cell_type": "code",
   "execution_count": 25,
   "metadata": {},
   "outputs": [
    {
     "data": {
      "text/plain": [
       "500"
      ]
     },
     "execution_count": 25,
     "metadata": {},
     "output_type": "execute_result"
    }
   ],
   "source": [
    "int(number_of_categories*number_of_samples/10)"
   ]
  },
  {
   "cell_type": "code",
   "execution_count": null,
   "metadata": {},
   "outputs": [],
   "source": []
  },
  {
   "cell_type": "code",
   "execution_count": null,
   "metadata": {},
   "outputs": [],
   "source": []
  },
  {
   "cell_type": "code",
   "execution_count": null,
   "metadata": {},
   "outputs": [],
   "source": []
  },
  {
   "cell_type": "code",
   "execution_count": null,
   "metadata": {},
   "outputs": [],
   "source": [
    "name = \"qd.h5\"\n",
    "saved_model_dir = 'save/'+str(name)\n",
    "model.save(saved_model_dir)\n",
    "print('Model Saved to '+saved_model_dir)"
   ]
  },
  {
   "cell_type": "code",
   "execution_count": null,
   "metadata": {},
   "outputs": [],
   "source": [
    "#tf.saved_model.save(model,'save/')\n",
    "#converter = tf.lite.TFLiteConverter.from_keras_model_file(model)\n",
    "#Use this if 238 fails \n",
    "converter = tf.lite.TFLiteConverter.from_keras_model(model)\n",
    "tflite_model = converter.convert()\n",
    "with open('model.tflite', 'wb') as f:\n",
    "    f.write(tflite_model)"
   ]
  },
  {
   "cell_type": "code",
   "execution_count": null,
   "metadata": {},
   "outputs": [],
   "source": [
    "model.save('save/qd_0')\n"
   ]
  },
  {
   "cell_type": "code",
   "execution_count": null,
   "metadata": {},
   "outputs": [],
   "source": [
    "model.summary()\n"
   ]
  },
  {
   "cell_type": "code",
   "execution_count": null,
   "metadata": {},
   "outputs": [],
   "source": [
    "new_model = tf.keras.models.load_model('save/qd_0')\n",
    "new_model.summary()\n"
   ]
  },
  {
   "cell_type": "code",
   "execution_count": null,
   "metadata": {},
   "outputs": [],
   "source": [
    "new_model.evaluate(x_test,  y_test, verbose=2);\n"
   ]
  },
  {
   "cell_type": "code",
   "execution_count": null,
   "metadata": {},
   "outputs": [],
   "source": [
    "predictions = new_model.predict(x_test)"
   ]
  },
  {
   "cell_type": "code",
   "execution_count": null,
   "metadata": {},
   "outputs": [],
   "source": [
    "i=2\n",
    "print(labels[np.argmax(predictions[i])])\n",
    "plt.figure()\n",
    "plt.imshow(x_test[i])\n",
    "plt.show()"
   ]
  },
  {
   "cell_type": "code",
   "execution_count": null,
   "metadata": {},
   "outputs": [],
   "source": [
    "#Show PNG\n",
    "image = Image.open('dataset/airplane3.png')\n",
    "# convert image to numpy array\n",
    "data = asarray(image)\n",
    "data = abs(data-255.)/255.\n",
    "\n",
    "# summarize shape\n",
    "print(data.shape)\n",
    "plt.imshow(image)\n",
    "plt.show()\n",
    "\n"
   ]
  },
  {
   "cell_type": "code",
   "execution_count": null,
   "metadata": {},
   "outputs": [],
   "source": [
    "#Convert png to 28x28 array\n",
    "image = Image.open('dataset/airplane3.png')\n",
    "image_resize = image.resize((28,28))\n",
    "data_resize = asarray(image_resize)\n",
    "data_resize = abs(data_resize-255.)/255.\n",
    "data_resize = data_resize[:, :, 0]\n",
    "data_resize = np.expand_dims(data_resize, axis=0)\n",
    "\n",
    "#Predict png\n",
    "predictions = new_model.predict(data_resize)\n",
    "print(labels[np.argmax(predictions)])\n",
    "print(data_resize.shape)\n",
    "plt.imshow(image_resize)\n",
    "plt.show()\n"
   ]
  },
  {
   "cell_type": "code",
   "execution_count": null,
   "metadata": {},
   "outputs": [],
   "source": []
  },
  {
   "cell_type": "code",
   "execution_count": null,
   "metadata": {},
   "outputs": [],
   "source": []
  },
  {
   "cell_type": "code",
   "execution_count": null,
   "metadata": {},
   "outputs": [],
   "source": []
  },
  {
   "cell_type": "code",
   "execution_count": null,
   "metadata": {},
   "outputs": [],
   "source": []
  }
 ],
 "metadata": {
  "kernelspec": {
   "display_name": "Python 3",
   "language": "python",
   "name": "python3"
  },
  "language_info": {
   "codemirror_mode": {
    "name": "ipython",
    "version": 3
   },
   "file_extension": ".py",
   "mimetype": "text/x-python",
   "name": "python",
   "nbconvert_exporter": "python",
   "pygments_lexer": "ipython3",
   "version": "3.7.4"
  }
 },
 "nbformat": 4,
 "nbformat_minor": 2
}
