{
 "cells": [
  {
   "cell_type": "code",
   "execution_count": 1,
   "metadata": {},
   "outputs": [
    {
     "name": "stdout",
     "output_type": "stream",
     "text": [
      "/Users/babi/Documents/GitHub/Quickdraw1/training_quickdraw\n"
     ]
    }
   ],
   "source": [
    "import tensorflow as tf\n",
    "import tensorflow_datasets as tfds\n",
    "from sklearn.model_selection import train_test_split\n",
    "\n",
    "import numpy as np\n",
    "from numpy import asarray\n",
    "import matplotlib.pyplot as plt \n",
    "from matplotlib import image\n",
    "import random as rd\n",
    "import math as m\n",
    "from PIL import Image\n",
    "\n",
    "\n",
    "import requests as req\n",
    "import npzviewer\n",
    "import wget\n",
    "from bs4 import BeautifulSoup\n",
    "import csv\n",
    "\n",
    "import os\n",
    "print(os.getcwd())\n",
    "\n",
    "#from google.cloud import storage\n",
    "#client = storage.Client()\n",
    "import copy\n",
    "#pip install --user google-cloud-storage"
   ]
  },
  {
   "cell_type": "code",
   "execution_count": 138,
   "metadata": {},
   "outputs": [],
   "source": [
    "##########"
   ]
  },
  {
   "cell_type": "code",
   "execution_count": 10,
   "metadata": {},
   "outputs": [],
   "source": [
    "def download_data(categories,number_of_samples):\n",
    "\n",
    "    data = np.array([], dtype=np.int64).reshape(0,784)\n",
    "    for i in range(len(categories)):\n",
    "        filename = cats[i][0] + '.npy'\n",
    "        filename = filename.replace(\" \",\"%20\")\n",
    "        \n",
    "        url = 'https://storage.googleapis.com/quickdraw_dataset/full/numpy_bitmap/'+filename\n",
    "        \n",
    "        r = req.get(url, allow_redirects=True)\n",
    "        #filename = os.path.basename(url)\n",
    "        #filename = filename.replace(\"%20\",\"\")\n",
    "        open(filename, 'wb').write(r.content)\n",
    "        \n",
    "        data = np.vstack([data,load_data(filename,number_of_samples)])\n",
    "        \n",
    "        os.remove(filename)\n",
    "        print(i+1,'/',number_of_samples,' ',filename.replace(\"%20\",\"\"))\n",
    "    return data\n",
    "\n",
    "def load_data(name,n):\n",
    "    filename = name\n",
    "    label = name\n",
    "    data = np.load(filename)\n",
    "    #data = np.ndarray.reshape(data,len(data),28,28)\n",
    "    return data[0:n,:]\n",
    "\n",
    "#randomize data and labels\n",
    "def randomize_data(data,labels,seed):\n",
    "    np.random.seed(seed)\n",
    "    np.random.shuffle(data)\n",
    "    np.random.seed(seed)\n",
    "    np.random.shuffle(cat_id)"
   ]
  },
  {
   "cell_type": "code",
   "execution_count": 3,
   "metadata": {},
   "outputs": [
    {
     "name": "stdout",
     "output_type": "stream",
     "text": [
      "1   aircraftcarrier.npy\n",
      "2   airplane.npy\n",
      "3   alarmclock.npy\n"
     ]
    }
   ],
   "source": [
    "#load categories\n",
    "cats = open(\"categories.txt\",'r')\n",
    "reader = csv.reader(cats)\n",
    "cats = [row for row in reader]\n",
    "\n",
    "#load data\n",
    "number_of_categories = len(cats)\n",
    "number_of_samples = 30000\n",
    "\n",
    "d = download_data(cats[0:number_of_categories],number_of_samples)\n",
    "cat_id = np.repeat(range(number_of_categories),number_of_samples)+1\n",
    "\n",
    "#reshape data into 28x28\n",
    "data = d.copy()\n",
    "data = np.reshape(data,(len(d),28,28))\n"
   ]
  },
  {
   "cell_type": "code",
   "execution_count": null,
   "metadata": {},
   "outputs": [],
   "source": [
    "#randomize data and cat_id\n",
    "randomize_data(data,cat_id,3)"
   ]
  },
  {
   "cell_type": "code",
   "execution_count": 4,
   "metadata": {},
   "outputs": [
    {
     "name": "stdout",
     "output_type": "stream",
     "text": [
      "['alarm clock'] 5074\n"
     ]
    },
    {
     "data": {
      "image/png": "[encoded data removed]",
      "text/plain": [
       "<Figure size 432x288 with 1 Axes>"
      ]
     },
     "metadata": {
      "needs_background": "light"
     },
     "output_type": "display_data"
    }
   ],
   "source": [
    "#TEST Show\n",
    "i=rd.randint(1,number_of_categories*number_of_samples)\n",
    "plt.imshow(data[i])\n",
    "print(cats[cat_id[i]-1],i)"
   ]
  },
  {
   "cell_type": "code",
   "execution_count": 5,
   "metadata": {},
   "outputs": [
    {
     "name": "stdout",
     "output_type": "stream",
     "text": [
      "Train-Set:  Samples 24000\n",
      "Test-Set:  Samples 6000\n"
     ]
    }
   ],
   "source": [
    "#split data\n",
    "training = 0.8\n",
    "test = 1.-training\n",
    "\n",
    "x_train = data[0:m.floor(training*len(data))]/ 255.0\n",
    "y_train = cat_id[0:m.floor(training*len(cat_id))]\n",
    "\n",
    "x_test = data[m.ceil(training*len(data)):len(data)]/ 255.0\n",
    "y_test = cat_id[m.ceil(training*len(cat_id)):len(cat_id)]\n",
    "\n",
    "print('Train-Set: ','Samples',np.shape(x_train)[0])\n",
    "print('Test-Set: ','Samples',np.shape(x_test)[0])"
   ]
  },
  {
   "cell_type": "code",
   "execution_count": 7,
   "metadata": {},
   "outputs": [],
   "source": [
    "model = tf.keras.models.Sequential([\n",
    "  tf.keras.layers.Flatten(input_shape=(28, 28)),\n",
    "  tf.keras.layers.Dense(128, activation='relu'),\n",
    "  tf.keras.layers.Dropout(0.2),\n",
    "  tf.keras.layers.Dense(5),\n",
    "  tf.keras.layers.Softmax()\n",
    "])\n",
    "\n",
    "loss_fn = tf.keras.losses.SparseCategoricalCrossentropy(from_logits=True)\n"
   ]
  },
  {
   "cell_type": "code",
   "execution_count": 8,
   "metadata": {},
   "outputs": [
    {
     "name": "stdout",
     "output_type": "stream",
     "text": [
      "Epoch 1/20\n",
      "750/750 [==============================] - 2s 2ms/step - loss: 1.1583 - accuracy: 0.7490\n",
      "Epoch 2/20\n",
      "750/750 [==============================] - 2s 2ms/step - loss: 1.0936 - accuracy: 0.8125\n",
      "Epoch 3/20\n",
      "750/750 [==============================] - 2s 2ms/step - loss: 1.0734 - accuracy: 0.8322\n",
      "Epoch 4/20\n",
      "750/750 [==============================] - 1s 2ms/step - loss: 1.0561 - accuracy: 0.8503\n",
      "Epoch 5/20\n",
      "750/750 [==============================] - 2s 2ms/step - loss: 1.0508 - accuracy: 0.8559\n",
      "Epoch 6/20\n",
      "750/750 [==============================] - 2s 3ms/step - loss: 1.0450 - accuracy: 0.8607\n",
      "Epoch 7/20\n",
      "750/750 [==============================] - 2s 2ms/step - loss: 1.0359 - accuracy: 0.8709\n",
      "Epoch 8/20\n",
      "750/750 [==============================] - 1s 2ms/step - loss: 1.0337 - accuracy: 0.8734\n",
      "Epoch 9/20\n",
      "750/750 [==============================] - 1s 2ms/step - loss: 1.0270 - accuracy: 0.8789\n",
      "Epoch 10/20\n",
      "750/750 [==============================] - 1s 2ms/step - loss: 1.0281 - accuracy: 0.8775\n",
      "Epoch 11/20\n",
      "750/750 [==============================] - 1s 2ms/step - loss: 1.0151 - accuracy: 0.8924\n",
      "Epoch 12/20\n",
      "750/750 [==============================] - 1s 2ms/step - loss: 1.0179 - accuracy: 0.8886\n",
      "Epoch 13/20\n",
      "750/750 [==============================] - 1s 2ms/step - loss: 1.0118 - accuracy: 0.8953: 0s - loss: 1.0113 - accura\n",
      "Epoch 14/20\n",
      "750/750 [==============================] - 1s 2ms/step - loss: 1.0096 - accuracy: 0.8969\n",
      "Epoch 15/20\n",
      "750/750 [==============================] - 1s 2ms/step - loss: 1.0076 - accuracy: 0.8999\n",
      "Epoch 16/20\n",
      "750/750 [==============================] - 1s 2ms/step - loss: 1.0051 - accuracy: 0.9014\n",
      "Epoch 17/20\n",
      "750/750 [==============================] - 1s 2ms/step - loss: 1.0040 - accuracy: 0.9032\n",
      "Epoch 18/20\n",
      "750/750 [==============================] - 1s 2ms/step - loss: 1.0013 - accuracy: 0.9046\n",
      "Epoch 19/20\n",
      "750/750 [==============================] - 1s 2ms/step - loss: 0.9986 - accuracy: 0.9061: 0s - loss: 0.9985 - accuracy: 0.90\n",
      "Epoch 20/20\n",
      "750/750 [==============================] - 1s 2ms/step - loss: 0.9984 - accuracy: 0.9086\n"
     ]
    },
    {
     "data": {
      "text/plain": [
       "<tensorflow.python.keras.callbacks.History at 0x7feb29f03f50>"
      ]
     },
     "execution_count": 8,
     "metadata": {},
     "output_type": "execute_result"
    }
   ],
   "source": [
    "model.compile(optimizer='adam',\n",
    "              loss=loss_fn,\n",
    "              metrics=['accuracy'])\n",
    "\n",
    "model.fit(x_train, y_train, epochs=20)"
   ]
  },
  {
   "cell_type": "code",
   "execution_count": 9,
   "metadata": {},
   "outputs": [
    {
     "name": "stdout",
     "output_type": "stream",
     "text": [
      "188/188 - 0s - loss: 1.0488 - accuracy: 0.8562\n"
     ]
    }
   ],
   "source": [
    "model.evaluate(x_test,  y_test, verbose=2);"
   ]
  },
  {
   "cell_type": "code",
   "execution_count": 43,
   "metadata": {},
   "outputs": [
    {
     "name": "stdout",
     "output_type": "stream",
     "text": [
      "Model Saved to save/qd.h5\n"
     ]
    }
   ],
   "source": [
    "name = \"qd.h5\"\n",
    "saved_model_dir = 'save/'+str(name)\n",
    "model.save(saved_model_dir)\n",
    "print('Model Saved to '+saved_model_dir)"
   ]
  },
  {
   "cell_type": "code",
   "execution_count": null,
   "metadata": {},
   "outputs": [
    {
     "name": "stdout",
     "output_type": "stream",
     "text": [
      "INFO:tensorflow:Assets written to: /var/folders/jh/06wb5xgj6vj48hhfwmc8d_rc0000gn/T/tmp0wyva6sv/assets\n"
     ]
    }
   ],
   "source": [
    "#tf.saved_model.save(model,'save/')\n",
    "#converter = tf.lite.TFLiteConverter.from_keras_model_file(model)\n",
    "#Use this if 238 fails \n",
    "converter = tf.lite.TFLiteConverter.from_keras_model(model)\n",
    "tflite_model = converter.convert()\n",
    "with open('model.tflite', 'wb') as f:\n",
    "    f.write(tflite_model)"
   ]
  },
  {
   "cell_type": "code",
   "execution_count": 17,
   "metadata": {},
   "outputs": [
    {
     "name": "stdout",
     "output_type": "stream",
     "text": [
      "INFO:tensorflow:Assets written to: save/qd_0/assets\n"
     ]
    }
   ],
   "source": [
    "model.save('save/qd_0')\n"
   ]
  },
  {
   "cell_type": "code",
   "execution_count": 44,
   "metadata": {},
   "outputs": [
    {
     "name": "stdout",
     "output_type": "stream",
     "text": [
      "Model: \"sequential_3\"\n",
      "_________________________________________________________________\n",
      "Layer (type)                 Output Shape              Param #   \n",
      "=================================================================\n",
      "flatten_3 (Flatten)          (None, 784)               0         \n",
      "_________________________________________________________________\n",
      "dense_6 (Dense)              (None, 128)               100480    \n",
      "_________________________________________________________________\n",
      "dropout_3 (Dropout)          (None, 128)               0         \n",
      "_________________________________________________________________\n",
      "dense_7 (Dense)              (None, 5)                 645       \n",
      "_________________________________________________________________\n",
      "softmax_3 (Softmax)          (None, 5)                 0         \n",
      "=================================================================\n",
      "Total params: 101,125\n",
      "Trainable params: 101,125\n",
      "Non-trainable params: 0\n",
      "_________________________________________________________________\n"
     ]
    }
   ],
   "source": [
    "model.summary()\n"
   ]
  },
  {
   "cell_type": "code",
   "execution_count": 22,
   "metadata": {},
   "outputs": [
    {
     "name": "stdout",
     "output_type": "stream",
     "text": [
      "Model: \"sequential\"\n",
      "_________________________________________________________________\n",
      "Layer (type)                 Output Shape              Param #   \n",
      "=================================================================\n",
      "flatten (Flatten)            (None, 784)               0         \n",
      "_________________________________________________________________\n",
      "dense (Dense)                (None, 128)               100480    \n",
      "_________________________________________________________________\n",
      "dropout (Dropout)            (None, 128)               0         \n",
      "_________________________________________________________________\n",
      "dense_1 (Dense)              (None, 5)                 645       \n",
      "_________________________________________________________________\n",
      "softmax (Softmax)            (None, 5)                 0         \n",
      "=================================================================\n",
      "Total params: 101,125\n",
      "Trainable params: 101,125\n",
      "Non-trainable params: 0\n",
      "_________________________________________________________________\n"
     ]
    }
   ],
   "source": [
    "new_model = tf.keras.models.load_model('save/qd_0')\n",
    "new_model.summary()\n"
   ]
  },
  {
   "cell_type": "code",
   "execution_count": 28,
   "metadata": {},
   "outputs": [
    {
     "name": "stdout",
     "output_type": "stream",
     "text": [
      "4198/4198 - 4s - loss: 0.9522 - accuracy: 0.9523\n"
     ]
    }
   ],
   "source": [
    "new_model.evaluate(x_test,  y_test, verbose=2);\n"
   ]
  },
  {
   "cell_type": "code",
   "execution_count": 26,
   "metadata": {},
   "outputs": [],
   "source": [
    "predictions = new_model.predict(x_test)"
   ]
  },
  {
   "cell_type": "code",
   "execution_count": 27,
   "metadata": {},
   "outputs": [
    {
     "name": "stdout",
     "output_type": "stream",
     "text": [
      "airplane\n"
     ]
    },
    {
     "data": {
      "image/png": "[encoded data removed]",
      "text/plain": [
       "<Figure size 432x288 with 1 Axes>"
      ]
     },
     "metadata": {
      "needs_background": "light"
     },
     "output_type": "display_data"
    }
   ],
   "source": [
    "i=2\n",
    "print(labels[np.argmax(predictions[i])])\n",
    "plt.figure()\n",
    "plt.imshow(x_test[i])\n",
    "plt.show()"
   ]
  },
  {
   "cell_type": "code",
   "execution_count": 29,
   "metadata": {},
   "outputs": [
    {
     "name": "stdout",
     "output_type": "stream",
     "text": [
      "(1200, 1200, 4)\n"
     ]
    },
    {
     "data": {
      "image/png": "[encoded data removed]",
      "text/plain": [
       "<Figure size 432x288 with 1 Axes>"
      ]
     },
     "metadata": {
      "needs_background": "light"
     },
     "output_type": "display_data"
    }
   ],
   "source": [
    "#Show PNG\n",
    "image = Image.open('dataset/airplane3.png')\n",
    "# convert image to numpy array\n",
    "data = asarray(image)\n",
    "data = abs(data-255.)/255.\n",
    "\n",
    "# summarize shape\n",
    "print(data.shape)\n",
    "plt.imshow(image)\n",
    "plt.show()\n",
    "\n"
   ]
  },
  {
   "cell_type": "code",
   "execution_count": 30,
   "metadata": {},
   "outputs": [
    {
     "name": "stdout",
     "output_type": "stream",
     "text": [
      "airplane\n",
      "(1, 28, 28)\n"
     ]
    },
    {
     "data": {
      "image/png": "[encoded data removed]",
      "text/plain": [
       "<Figure size 432x288 with 1 Axes>"
      ]
     },
     "metadata": {
      "needs_background": "light"
     },
     "output_type": "display_data"
    }
   ],
   "source": [
    "#Convert png to 28x28 array\n",
    "image = Image.open('dataset/airplane3.png')\n",
    "image_resize = image.resize((28,28))\n",
    "data_resize = asarray(image_resize)\n",
    "data_resize = abs(data_resize-255.)/255.\n",
    "data_resize = data_resize[:, :, 0]\n",
    "data_resize = np.expand_dims(data_resize, axis=0)\n",
    "\n",
    "#Predict png\n",
    "predictions = new_model.predict(data_resize)\n",
    "print(labels[np.argmax(predictions)])\n",
    "print(data_resize.shape)\n",
    "plt.imshow(image_resize)\n",
    "plt.show()\n"
   ]
  },
  {
   "cell_type": "code",
   "execution_count": null,
   "metadata": {},
   "outputs": [],
   "source": []
  },
  {
   "cell_type": "code",
   "execution_count": null,
   "metadata": {},
   "outputs": [],
   "source": []
  },
  {
   "cell_type": "code",
   "execution_count": null,
   "metadata": {},
   "outputs": [],
   "source": []
  },
  {
   "cell_type": "code",
   "execution_count": null,
   "metadata": {},
   "outputs": [],
   "source": []
  }
 ],
 "metadata": {
  "kernelspec": {
   "display_name": "Python 3",
   "language": "python",
   "name": "python3"
  },
  "language_info": {
   "codemirror_mode": {
    "name": "ipython",
    "version": 3
   },
   "file_extension": ".py",
   "mimetype": "text/x-python",
   "name": "python",
   "nbconvert_exporter": "python",
   "pygments_lexer": "ipython3",
   "version": "3.7.4"
  }
 },
 "nbformat": 4,
 "nbformat_minor": 2
}
