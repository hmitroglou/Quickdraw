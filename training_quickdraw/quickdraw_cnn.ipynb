{
 "cells": [
  {
   "cell_type": "code",
   "execution_count": 1,
   "metadata": {},
   "outputs": [
    {
     "name": "stdout",
     "output_type": "stream",
     "text": [
      "/Users/babi/Documents/GitHub/Quickdraw1/training_quickdraw\n",
      "2.4.0\n"
     ]
    }
   ],
   "source": [
    "import tensorflow as tf\n",
    "\n",
    "import numpy as np\n",
    "from numpy import asarray\n",
    "\n",
    "import matplotlib.pyplot as plt \n",
    "from matplotlib import image\n",
    "\n",
    "import math as m\n",
    "from PIL import Image\n",
    "import random\n",
    "\n",
    "import requests as req\n",
    "import csv\n",
    "import os\n",
    "print(os.getcwd())\n",
    "\n",
    "import copy\n",
    "\n",
    "print(tf.__version__)\n"
   ]
  },
  {
   "cell_type": "code",
   "execution_count": 2,
   "metadata": {},
   "outputs": [],
   "source": [
    "def download_npy(categories,number_of_samples):\n",
    "\n",
    "    number_of_categories = len(categories)\n",
    "    data = np.array([], dtype=np.int64).reshape(0,784)\n",
    "    for i in range(number_of_categories):\n",
    "        filename = categories[i][0] + '.npy'\n",
    "        filename = filename.replace(\" \",\"%20\")\n",
    "        \n",
    "        url = 'https://storage.googleapis.com/quickdraw_dataset/full/numpy_bitmap/'+filename\n",
    "        \n",
    "        r = req.get(url, allow_redirects=True)\n",
    "        #filename = os.path.basename(url)\n",
    "        #filename = filename.replace(\"%20\",\"\")\n",
    "        open(filename, 'wb').write(r.content)\n",
    "        \n",
    "        data = np.vstack([data,load_data(filename,number_of_samples)])\n",
    "        \n",
    "        os.remove(filename)\n",
    "        print(i+1,'/',number_of_categories,' ',filename.replace(\"%20\",\"\"))\n",
    "    return data\n",
    "\n",
    "def load_data(name,n):\n",
    "    filename = name\n",
    "    label = name\n",
    "    data = np.load(filename)\n",
    "    #data = np.ndarray.reshape(data,len(data),28,28)\n",
    "    return data[0:n,:]\n",
    "\n",
    "#randomize data and labels\n",
    "def shuff(data,label):\n",
    "    \n",
    "    s = np.shape(data)\n",
    "    n = s[0]\n",
    "    \n",
    "    l = len(label)\n",
    "    label_new = np.zeros(l)\n",
    "    \n",
    "    if len(2*s)==2:\n",
    "        d = 1\n",
    "        m = 1\n",
    "        data_new = np.zeros((n,m))\n",
    "\n",
    "    elif len(2*s)==4:\n",
    "        d = 2\n",
    "        m = s[1]\n",
    "        data_new = np.zeros((n,m))\n",
    "    \n",
    "    orderid = random.sample(range(n), n)\n",
    "    \n",
    "    #l1 = list(range(n))\n",
    "    #l2 = list(range(n))\n",
    "    ##Kernel dies\n",
    "    #np.random.seed(seed) \n",
    "    #np.random.shuffle(l1)\n",
    "    #np.random.seed(seed)\n",
    "    #np.random.shuffle(l2)   \n",
    "    \n",
    "    for i in range(n):\n",
    "        data_new[i] = data[orderid[i]]\n",
    "        label_new[i] = int(label[orderid[i]])\n",
    "        \n",
    "    #del data, label\n",
    "    return data_new, label_new\n",
    "\n",
    "def download_and_save(number_of_categories,number_of_samples):\n",
    "\n",
    "    x = [random.randint(0, 345) for p in range(0, number_of_categories)]\n",
    "\n",
    "    #load categories\n",
    "    categories = open(\"categories.txt\",'r')\n",
    "    reader = csv.reader(categories)\n",
    "    categories = [row for row in reader]\n",
    "    categories = [categories[row] for row in x]\n",
    "    \n",
    "    d = download_npy(categories,number_of_samples)\n",
    "    \n",
    "    #save Data\n",
    "    filename = 'dataset/data_{}_{}.csv'.format(number_of_categories,number_of_samples)\n",
    "    np.savetxt(filename, d, delimiter=',')\n",
    "    \n",
    "    #save Categories\n",
    "    filename = 'dataset/cat_{}_{}.csv'.format(number_of_categories,number_of_samples)\n",
    "    with open(filename, 'w') as f: \n",
    "        write = csv.writer(f) \n",
    "        write.writerows(categories)\n",
    "    return d, categories\n",
    "    \n",
    "def data_from_file(number_of_categories,number_of_samples):\n",
    "    \n",
    "    filename = 'dataset/data_{}_{}.csv'.format(number_of_categories,number_of_samples)\n",
    "    d = np.loadtxt(filename, delimiter=',')\n",
    "    filename = 'dataset/cat_{}_{}.csv'.format(number_of_categories,number_of_samples)\n",
    "    categories = open(filename,'r')\n",
    "    reader = csv.reader(categories)\n",
    "    categories = [row for row in reader]\n",
    "    \n",
    "    return d, categories\n",
    "\n",
    "def predict_image(path_image):\n",
    "    image = Image.open(path_image)\n",
    "\n",
    "    image_resize = image.resize((28,28))\n",
    "    image_small= asarray(image_resize)\n",
    "    image_small = abs(image_small-255.)/255.\n",
    "    image_small = image_small[:, :, 0]\n",
    "    image_small = np.expand_dims(image_small, axis=0)\n",
    "    \n",
    "    predictions = model.predict(image_small)\n",
    "    print(cats[np.argmax(predictions)])\n",
    "    print(image_small.shape)\n",
    "    plt.imshow(image_resize)\n",
    "    plt.show()"
   ]
  },
  {
   "cell_type": "code",
   "execution_count": 4,
   "metadata": {},
   "outputs": [],
   "source": [
    "def define_model():\n",
    "    model = tf.keras.models.Sequential()\n",
    "    model.add(tf.keras.layers.Conv2D(32, (3, 3), activation='relu', kernel_initializer='he_uniform', input_shape=(28, 28, 1)))\n",
    "    model.add(tf.keras.layers.MaxPooling2D((2, 2)))\n",
    "    model.add(tf.keras.layers.Flatten())\n",
    "    model.add(tf.keras.layers.Dense(100, activation='relu', kernel_initializer='he_uniform'))\n",
    "    model.add(tf.keras.layers.Dense(ncat, activation='softmax'))\n",
    "    \n",
    "    # compile model\n",
    "    opt = tf.keras.optimizers.SGD(learning_rate=0.01, momentum=0.9)\n",
    "    model.compile(optimizer=opt, loss='sparse_categorical_crossentropy', metrics=['accuracy'])\n",
    "    return model"
   ]
  },
  {
   "cell_type": "code",
   "execution_count": 15,
   "metadata": {},
   "outputs": [
    {
     "name": "stdout",
     "output_type": "stream",
     "text": [
      "Categories:  [['hat'], ['flashlight'], ['giraffe'], ['key'], ['laptop']]\n",
      "(5000, 784)   (5000,)\n"
     ]
    }
   ],
   "source": [
    "ncat = 5\n",
    "nsam = 1000\n",
    "\n",
    "##load data\n",
    "#d, cats = download_and_save(number_of_categories,number_of_samples)\n",
    "d, cats = data_from_file(ncat,nsam)\n",
    "\n",
    "cat_id = np.repeat(range(ncat),nsam)\n",
    "\n",
    "print('Categories: ', cats)\n",
    "print(np.shape(d),' ',np.shape(cat_id))\n"
   ]
  },
  {
   "cell_type": "code",
   "execution_count": 16,
   "metadata": {},
   "outputs": [
    {
     "name": "stdout",
     "output_type": "stream",
     "text": [
      "Train-Set:  Samples 4000 / Labels 4000\n",
      "Test-Set:  Samples 1000 / Labels 1000\n"
     ]
    }
   ],
   "source": [
    "#Shuffle data\n",
    "data,cat_id = shuff(d,cat_id)\n",
    "data_rs = np.reshape(data,(len(data),28,28))\n",
    "\n",
    "#data to 4D\n",
    "data4 = np.reshape(data,(len(data),28,28,1))\n",
    "\n",
    "#split data\n",
    "training = 0.8\n",
    "test = 1.-training\n",
    "\n",
    "x_train = data4[0:m.floor(training*len(data4))]/ 255.0\n",
    "y_train = cat_id[0:m.floor(training*len(cat_id))]\n",
    "\n",
    "x_test = data4[m.ceil(training*len(data4)):len(data4),:]/ 255.0\n",
    "y_test = cat_id[m.ceil(training*len(cat_id)):len(cat_id)]\n",
    "\n",
    "print('Train-Set: ','Samples',np.shape(x_train)[0],'/ Labels', np.shape(y_train)[0])\n",
    "print('Test-Set: ','Samples',np.shape(x_test)[0],'/ Labels', np.shape(y_test)[0])"
   ]
  },
  {
   "cell_type": "code",
   "execution_count": 18,
   "metadata": {},
   "outputs": [
    {
     "name": "stdout",
     "output_type": "stream",
     "text": [
      "['hat'] 3287\n"
     ]
    },
    {
     "data": {
      "image/png": "[encoded data removed]",
      "text/plain": [
       "<Figure size 432x288 with 1 Axes>"
      ]
     },
     "metadata": {
      "needs_background": "light"
     },
     "output_type": "display_data"
    }
   ],
   "source": [
    "#TEST Show\n",
    "i=random.randint(1,len(data_rs))\n",
    "plt.imshow(data_rs[i])\n",
    "print(cats[int(cat_id[i])],i)"
   ]
  },
  {
   "cell_type": "code",
   "execution_count": 39,
   "metadata": {},
   "outputs": [
    {
     "name": "stdout",
     "output_type": "stream",
     "text": [
      "Epoch 1/5\n",
      "125/125 [==============================] - 2s 11ms/step - loss: 0.8387 - accuracy: 0.6790\n",
      "Epoch 2/5\n",
      "125/125 [==============================] - 1s 10ms/step - loss: 0.3626 - accuracy: 0.8778\n",
      "Epoch 3/5\n",
      "125/125 [==============================] - 1s 10ms/step - loss: 0.2531 - accuracy: 0.9094\n",
      "Epoch 4/5\n",
      "125/125 [==============================] - 1s 11ms/step - loss: 0.1932 - accuracy: 0.9399\n",
      "Epoch 5/5\n",
      "125/125 [==============================] - 1s 10ms/step - loss: 0.1324 - accuracy: 0.9572\n",
      "32/32 - 0s - loss: 0.3045 - accuracy: 0.9170\n",
      "Accuracy > 91.700\n"
     ]
    }
   ],
   "source": [
    "#Model and Train\n",
    "model = define_model()\n",
    "history = model.fit(x_train, y_train,batch_size = 32, epochs=5)\n",
    "\n",
    "_, acc = model.evaluate(x_test,  y_test, verbose=2);\n",
    "\n",
    "print('Accuracy > %.3f' % (acc * 100.0))\n",
    "\n",
    "# stores scores\n",
    "scores, histories = list(), list()\n",
    "scores.append(acc)\n",
    "histories.append(history)"
   ]
  },
  {
   "cell_type": "code",
   "execution_count": 37,
   "metadata": {},
   "outputs": [
    {
     "name": "stdout",
     "output_type": "stream",
     "text": [
      "['laptop']\n"
     ]
    },
    {
     "data": {
      "image/png": "[encoded data removed]",
      "text/plain": [
       "<Figure size 432x288 with 1 Axes>"
      ]
     },
     "metadata": {
      "needs_background": "light"
     },
     "output_type": "display_data"
    }
   ],
   "source": [
    "#Test Predictions\n",
    "predictions = model.predict(x_test)\n",
    "\n",
    "i=random.randint(1,len(x_test))\n",
    "x_test_0 = np.reshape(x_test[i],(28,28))\n",
    "plt.imshow(x_test_0)\n",
    "print(cats[np.argmax(predictions[i])])\n"
   ]
  },
  {
   "cell_type": "code",
   "execution_count": 38,
   "metadata": {},
   "outputs": [
    {
     "name": "stdout",
     "output_type": "stream",
     "text": [
      "dict_keys(['loss', 'accuracy'])\n"
     ]
    },
    {
     "data": {
      "image/png": "[encoded data removed]",
      "text/plain": [
       "<Figure size 432x288 with 1 Axes>"
      ]
     },
     "metadata": {
      "needs_background": "light"
     },
     "output_type": "display_data"
    },
    {
     "data": {
      "image/png": "[encoded data removed]",
      "text/plain": [
       "<Figure size 432x288 with 1 Axes>"
      ]
     },
     "metadata": {
      "needs_background": "light"
     },
     "output_type": "display_data"
    }
   ],
   "source": [
    "print(history.history.keys())\n",
    "# summarize history for accuracy\n",
    "plt.plot(history.history['accuracy'])\n",
    "plt.title('model accuracy')\n",
    "plt.ylabel('accuracy')\n",
    "plt.xlabel('epoch')\n",
    "plt.legend(['train', 'test'], loc='upper left')\n",
    "plt.show()\n",
    "# summarize history for loss\n",
    "plt.plot(history.history['loss'])\n",
    "plt.title('model loss')\n",
    "plt.ylabel('loss')\n",
    "plt.xlabel('epoch')\n",
    "plt.legend(['train', 'test'], loc='upper left')\n",
    "plt.show()"
   ]
  },
  {
   "cell_type": "code",
   "execution_count": null,
   "metadata": {},
   "outputs": [],
   "source": []
  },
  {
   "cell_type": "code",
   "execution_count": null,
   "metadata": {},
   "outputs": [],
   "source": []
  },
  {
   "cell_type": "code",
   "execution_count": null,
   "metadata": {},
   "outputs": [],
   "source": []
  },
  {
   "cell_type": "code",
   "execution_count": null,
   "metadata": {},
   "outputs": [],
   "source": []
  }
 ],
 "metadata": {
  "kernelspec": {
   "display_name": "Python 3",
   "language": "python",
   "name": "python3"
  },
  "language_info": {
   "codemirror_mode": {
    "name": "ipython",
    "version": 3
   },
   "file_extension": ".py",
   "mimetype": "text/x-python",
   "name": "python",
   "nbconvert_exporter": "python",
   "pygments_lexer": "ipython3",
   "version": "3.7.4"
  }
 },
 "nbformat": 4,
 "nbformat_minor": 2
}
