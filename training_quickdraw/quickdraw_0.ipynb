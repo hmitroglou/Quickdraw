{
 "cells": [
  {
   "cell_type": "code",
   "execution_count": 1,
   "metadata": {},
   "outputs": [],
   "source": [
    "import tensorflow as tf\n",
    "import tensorflow_datasets as tfds\n",
    "from sklearn.model_selection import train_test_split\n",
    "\n",
    "import numpy as np\n",
    "import matplotlib.pyplot as plt \n",
    "import random as rd\n",
    "\n",
    "import requests\n",
    "import npzviewer\n",
    "import wget"
   ]
  },
  {
   "cell_type": "code",
   "execution_count": 2,
   "metadata": {},
   "outputs": [],
   "source": [
    "def data_npz():\n",
    "    filename = \"dataset/airplane.npz\"\n",
    "    return np.load(filename, encoding='latin1', allow_pickle=True)\n",
    "\n",
    "def split_npz():\n",
    "    train_set = data['train']\n",
    "    valid_set = data['valid']\n",
    "    test_set = data['test']"
   ]
  },
  {
   "cell_type": "code",
   "execution_count": 54,
   "metadata": {},
   "outputs": [],
   "source": [
    "def data_airplane_npy():\n",
    "    filename = \"dataset/airplane.npy\"\n",
    "    label = 'airplane'\n",
    "    data = np.load(filename)\n",
    "    #data = np.ndarray.reshape(data,len(data),28,28)\n",
    "    \n",
    "    return data\n",
    "\n",
    "def data_axe_npy():\n",
    "    filename = \"dataset/axe.npy\"\n",
    "    label = 'axe'\n",
    "    data = np.load(filename)\n",
    "    #data = np.ndarray.reshape(data,len(data),28,28)\n",
    "    return data\n",
    "\n",
    "def data_basketball_npy():\n",
    "    filename = \"dataset/basketball.npy\"\n",
    "    label = 'basketball'\n",
    "    data = np.load(filename)\n",
    "    #data = np.ndarray.reshape(data,len(data),28,28)\n",
    "    return data\n",
    "\n",
    "def data_couch_npy():\n",
    "    filename = \"dataset/couch.npy\"\n",
    "    label = 'axe'\n",
    "    data = np.load(filename)\n",
    "    #data = np.ndarray.reshape(data,len(data),28,28)\n",
    "    return data\n",
    "\n",
    "def data_hexagon_npy():\n",
    "    filename = \"dataset/hexagon.npy\"\n",
    "    label = 'axe'\n",
    "    data = np.load(filename)\n",
    "    #data = np.ndarray.reshape(data,len(data),28,28)\n",
    "    return data\n",
    "\n",
    "def tf_data():\n",
    "    return tfds.image_classification.QuickdrawBitmap"
   ]
  },
  {
   "cell_type": "code",
   "execution_count": 75,
   "metadata": {},
   "outputs": [],
   "source": [
    "data_airplane = data_airplane_npy()\n",
    "data_axe = data_axe_npy()\n",
    "data_basketball= data_basketball_npy()\n",
    "data_hexagon = data_hexagon_npy()\n",
    "data_couch = data_couch_npy()\n",
    "\n",
    "labels = ['airplane', 'axe', 'basketball','hexagon','couch']\n",
    "labelsn = [0,1,2,3,4]\n",
    "\n",
    "\n",
    "labels0 = [0]*len(data_airplane)\n",
    "labels1 = [1]*len(data_axe)\n",
    "labels2 = [2]*len(data_basketball)\n",
    "labels3 = [3]*len(data_hexagon)\n",
    "labels4 = [4]*len(data_couch)\n",
    "\n",
    "\n",
    "l = labels0+labels1+labels2+labels3+labels4\n"
   ]
  },
  {
   "cell_type": "code",
   "execution_count": 77,
   "metadata": {},
   "outputs": [
    {
     "data": {
      "text/plain": [
       "(671635, 784)"
      ]
     },
     "execution_count": 77,
     "metadata": {},
     "output_type": "execute_result"
    }
   ],
   "source": [
    "data = np.concatenate((data_airplane,data_axe,data_basketball,data_hexagon,data_couch),axis=0)\n",
    "np.shape(data)"
   ]
  },
  {
   "cell_type": "code",
   "execution_count": 69,
   "metadata": {},
   "outputs": [
    {
     "name": "stdout",
     "output_type": "stream",
     "text": [
      "3 (28, 28)\n"
     ]
    },
    {
     "data": {
      "image/png": "[encoded data removed]",
      "text/plain": [
       "<Figure size 432x288 with 1 Axes>"
      ]
     },
     "metadata": {
      "needs_background": "light"
     },
     "output_type": "display_data"
    }
   ],
   "source": [
    "i=500000\n",
    "t1 = (data)[i]\n",
    "t = np.reshape(t1,(28,28))\n",
    "np.shape(t)\n",
    "\n",
    "data0 = t\n",
    "plt.imshow(data0)\n",
    "print(l[i],data0.shape)"
   ]
  },
  {
   "cell_type": "code",
   "execution_count": null,
   "metadata": {},
   "outputs": [],
   "source": []
  },
  {
   "cell_type": "code",
   "execution_count": 12,
   "metadata": {},
   "outputs": [],
   "source": [
    "from PIL import Image\n",
    "\n",
    "file_in = \"quick_draw_subset/airplane/airplane_4527275041095680.png\"\n",
    "img = Image.open(file_in)\n",
    "\n",
    "file_out = \"airplane.bmp\"\n",
    "img.save(file_out)"
   ]
  },
  {
   "cell_type": "code",
   "execution_count": 13,
   "metadata": {},
   "outputs": [],
   "source": [
    "img = plt.imread('quick_draw_subset/airplane/airplane_4527275041095680.png')\n",
    "rows,cols,colors = img.shape # gives dimensions for RGB array\n",
    "img_size = rows*cols*colors\n",
    "img_1D_vector = img.reshape(img_size)\n",
    "# you can recover the orginal image with:\n",
    "img2 = img_1D_vector.reshape(rows,cols,colors)"
   ]
  },
  {
   "cell_type": "code",
   "execution_count": 14,
   "metadata": {},
   "outputs": [
    {
     "data": {
      "image/png": "[encoded data removed]",
      "text/plain": [
       "<Figure size 432x288 with 1 Axes>"
      ]
     },
     "metadata": {
      "needs_background": "light"
     },
     "output_type": "display_data"
    }
   ],
   "source": [
    "plt.imshow(img2) # followed by \n",
    "plt.show()"
   ]
  },
  {
   "cell_type": "code",
   "execution_count": 18,
   "metadata": {},
   "outputs": [
    {
     "data": {
      "text/plain": [
       "128"
      ]
     },
     "execution_count": 18,
     "metadata": {},
     "output_type": "execute_result"
    }
   ],
   "source": [
    "len(img2)"
   ]
  },
  {
   "cell_type": "code",
   "execution_count": null,
   "metadata": {},
   "outputs": [],
   "source": []
  }
 ],
 "metadata": {
  "kernelspec": {
   "display_name": "Python 3",
   "language": "python",
   "name": "python3"
  },
  "language_info": {
   "codemirror_mode": {
    "name": "ipython",
    "version": 3
   },
   "file_extension": ".py",
   "mimetype": "text/x-python",
   "name": "python",
   "nbconvert_exporter": "python",
   "pygments_lexer": "ipython3",
   "version": "3.7.4"
  }
 },
 "nbformat": 4,
 "nbformat_minor": 2
}
