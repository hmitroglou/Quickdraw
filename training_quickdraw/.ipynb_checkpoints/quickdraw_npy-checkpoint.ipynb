{
 "cells": [
  {
   "cell_type": "code",
   "execution_count": 110,
   "metadata": {},
   "outputs": [],
   "source": [
    "import tensorflow as tf\n",
    "import tensorflow_datasets as tfds\n",
    "from sklearn.model_selection import train_test_split\n",
    "\n",
    "import numpy as np\n",
    "from numpy import asarray\n",
    "import matplotlib.pyplot as plt \n",
    "from matplotlib import image\n",
    "import random as rd\n",
    "import math as m\n",
    "from PIL import Image\n",
    "\n",
    "\n",
    "import requests\n",
    "import npzviewer\n",
    "import wget\n",
    "\n",
    "import copy"
   ]
  },
  {
   "cell_type": "code",
   "execution_count": 111,
   "metadata": {},
   "outputs": [],
   "source": [
    "def data_npz():\n",
    "    filename = \"dataset/airplane.npz\"\n",
    "    return np.load(filename, encoding='latin1', allow_pickle=True)\n",
    "\n",
    "def split_npz():\n",
    "    train_set = data['train']\n",
    "    valid_set = data['valid']\n",
    "    test_set = data['test']"
   ]
  },
  {
   "cell_type": "code",
   "execution_count": 112,
   "metadata": {},
   "outputs": [],
   "source": [
    "def data_airplane_npy():\n",
    "    filename = \"dataset/airplane.npy\"\n",
    "    label = 'airplane'\n",
    "    data = np.load(filename)\n",
    "    #data = np.ndarray.reshape(data,len(data),28,28)\n",
    "    \n",
    "    return data\n",
    "\n",
    "def data_axe_npy():\n",
    "    filename = \"dataset/axe.npy\"\n",
    "    label = 'axe'\n",
    "    data = np.load(filename)\n",
    "    #data = np.ndarray.reshape(data,len(data),28,28)\n",
    "    return data\n",
    "\n",
    "def data_basketball_npy():\n",
    "    filename = \"dataset/basketball.npy\"\n",
    "    label = 'basketball'\n",
    "    data = np.load(filename)\n",
    "    #data = np.ndarray.reshape(data,len(data),28,28)\n",
    "    return data\n",
    "\n",
    "def data_couch_npy():\n",
    "    filename = \"dataset/couch.npy\"\n",
    "    label = 'axe'\n",
    "    data = np.load(filename)\n",
    "    #data = np.ndarray.reshape(data,len(data),28,28)\n",
    "    return data\n",
    "\n",
    "def data_hexagon_npy():\n",
    "    filename = \"dataset/hexagon.npy\"\n",
    "    label = 'axe'\n",
    "    data = np.load(filename)\n",
    "    #data = np.ndarray.reshape(data,len(data),28,28)\n",
    "    return data\n",
    "\n",
    "def tf_data():\n",
    "    return tfds.image_classification.QuickdrawBitmap"
   ]
  },
  {
   "cell_type": "code",
   "execution_count": 188,
   "metadata": {},
   "outputs": [],
   "source": [
    "data_airplane = data_airplane_npy()\n",
    "data_axe = data_axe_npy()\n",
    "data_basketball= data_basketball_npy()\n",
    "data_hexagon = data_hexagon_npy()\n",
    "data_couch = data_couch_npy()\n",
    "\n",
    "labels = ['airplane', 'axe', 'basketball','hexagon','couch']\n",
    "labelsn = [0,1,2,3,4]\n",
    "\n",
    "labels0 = [0]*len(data_airplane)\n",
    "labels1 = [1]*len(data_axe)\n",
    "labels2 = [2]*len(data_basketball)\n",
    "labels3 = [3]*len(data_hexagon)\n",
    "labels4 = [4]*len(data_couch)\n",
    "\n",
    "l0 = np.array(labels0+labels1+labels2+labels3+labels4)\n",
    "\n",
    "data0 = np.concatenate((data_airplane,data_axe,data_basketball,data_hexagon,data_couch),axis=0)\n",
    "np.shape(data0)\n",
    "\n",
    "data = data0.copy()\n",
    "data = np.reshape(data,(len(data0),28,28))\n",
    "label = l0.copy()"
   ]
  },
  {
   "cell_type": "code",
   "execution_count": 189,
   "metadata": {},
   "outputs": [
    {
     "name": "stdout",
     "output_type": "stream",
     "text": [
      "axe (28, 28)\n"
     ]
    },
    {
     "data": {
      "image/png": "[encoded data removed]",
      "text/plain": [
       "<Figure size 432x288 with 1 Axes>"
      ]
     },
     "metadata": {
      "needs_background": "light"
     },
     "output_type": "display_data"
    }
   ],
   "source": [
    "i=1\n",
    "seed = 11\n",
    "np.random.seed(seed)\n",
    "np.random.shuffle(data)\n",
    "np.random.seed(seed)\n",
    "np.random.shuffle(label)\n",
    "\n",
    "t1 = (data)[i]\n",
    "t = np.reshape(t1,(28,28))\n",
    "data0 = t\n",
    "plt.imshow(data0)\n",
    "print(labels[label[i]],data0.shape)"
   ]
  },
  {
   "cell_type": "code",
   "execution_count": 190,
   "metadata": {},
   "outputs": [
    {
     "name": "stdout",
     "output_type": "stream",
     "text": [
      "<class 'numpy.ndarray'> (537308, 28, 28)\n",
      "<class 'numpy.ndarray'> (537308,)\n"
     ]
    }
   ],
   "source": [
    "#split data\n",
    "training = 0.8\n",
    "test = 1.-training\n",
    "\n",
    "x_train = data[0:m.floor(training*len(data))]/ 255.0\n",
    "y_train = label[0:m.floor(training*len(label))]\n",
    "\n",
    "x_test = data[m.ceil(training*len(data)):len(data)]/ 255.0\n",
    "y_test = label[m.ceil(training*len(label)):len(label)]\n",
    "\n",
    "print(type(x_train),np.shape(x_train))\n",
    "print(type(y_train),np.shape(y_train))"
   ]
  },
  {
   "cell_type": "code",
   "execution_count": 224,
   "metadata": {},
   "outputs": [
    {
     "data": {
      "text/plain": [
       "array([[0.        , 0.        , 0.        , 0.        , 0.        ,\n",
       "        0.        , 0.        , 0.        , 0.        , 0.        ,\n",
       "        0.        , 0.        , 0.        , 0.        , 0.        ,\n",
       "        0.        , 0.        , 0.        , 0.        , 0.        ,\n",
       "        0.        , 0.        , 0.        , 0.        , 0.        ,\n",
       "        0.        , 0.        , 0.        ],\n",
       "       [0.        , 0.        , 0.        , 0.        , 0.        ,\n",
       "        0.        , 0.        , 0.        , 0.        , 0.        ,\n",
       "        0.        , 0.        , 0.        , 0.        , 0.        ,\n",
       "        0.        , 0.        , 0.        , 0.37647059, 0.0745098 ,\n",
       "        0.        , 0.        , 0.        , 0.        , 0.        ,\n",
       "        0.        , 0.        , 0.        ],\n",
       "       [0.        , 0.        , 0.        , 0.        , 0.        ,\n",
       "        0.        , 0.        , 0.        , 0.        , 0.        ,\n",
       "        0.        , 0.        , 0.        , 0.        , 0.05882353,\n",
       "        0.30196078, 0.55294118, 0.70980392, 1.        , 0.38039216,\n",
       "        0.        , 0.        , 0.        , 0.        , 0.        ,\n",
       "        0.        , 0.        , 0.        ],\n",
       "       [0.        , 0.        , 0.        , 0.        , 0.        ,\n",
       "        0.        , 0.03529412, 0.50980392, 0.61176471, 0.67843137,\n",
       "        0.74509804, 0.81176471, 0.87843137, 0.94509804, 1.        ,\n",
       "        1.        , 0.95294118, 0.78431373, 0.99607843, 0.48235294,\n",
       "        0.        , 0.        , 0.        , 0.        , 0.        ,\n",
       "        0.        , 0.        , 0.        ],\n",
       "       [0.        , 0.        , 0.        , 0.        , 0.        ,\n",
       "        0.        , 0.11764706, 0.98039216, 0.98039216, 0.79607843,\n",
       "        0.72941176, 0.6627451 , 0.59607843, 0.52941176, 0.43529412,\n",
       "        0.21960784, 0.01568627, 0.        , 0.71372549, 0.89411765,\n",
       "        0.02352941, 0.        , 0.        , 0.        , 0.        ,\n",
       "        0.        , 0.        , 0.        ],\n",
       "       [0.        , 0.        , 0.        , 0.        , 0.        ,\n",
       "        0.        , 0.        , 0.50588235, 0.99607843, 0.2627451 ,\n",
       "        0.        , 0.        , 0.        , 0.        , 0.        ,\n",
       "        0.        , 0.        , 0.        , 0.39215686, 1.        ,\n",
       "        0.23137255, 0.        , 0.        , 0.        , 0.        ,\n",
       "        0.        , 0.        , 0.        ],\n",
       "       [0.        , 0.        , 0.        , 0.        , 0.        ,\n",
       "        0.        , 0.        , 0.02352941, 0.85098039, 0.74509804,\n",
       "        0.        , 0.        , 0.        , 0.        , 0.        ,\n",
       "        0.        , 0.0745098 , 0.49803922, 0.93333333, 0.91372549,\n",
       "        0.08235294, 0.        , 0.        , 0.        , 0.        ,\n",
       "        0.        , 0.        , 0.        ],\n",
       "       [0.        , 0.        , 0.        , 0.        , 0.        ,\n",
       "        0.        , 0.        , 0.        , 0.43529412, 0.99607843,\n",
       "        0.16078431, 0.        , 0.        , 0.        , 0.        ,\n",
       "        0.60784314, 1.        , 1.        , 0.8745098 , 0.1372549 ,\n",
       "        0.        , 0.        , 0.        , 0.        , 0.        ,\n",
       "        0.        , 0.        , 0.        ],\n",
       "       [0.        , 0.        , 0.        , 0.        , 0.        ,\n",
       "        0.        , 0.        , 0.        , 0.0627451 , 0.95686275,\n",
       "        0.56862745, 0.        , 0.        , 0.01568627, 0.6745098 ,\n",
       "        1.        , 1.        , 1.        , 0.88235294, 0.10588235,\n",
       "        0.        , 0.        , 0.        , 0.        , 0.        ,\n",
       "        0.        , 0.        , 0.        ],\n",
       "       [0.        , 0.        , 0.        , 0.        , 0.        ,\n",
       "        0.        , 0.        , 0.        , 0.        , 0.60784314,\n",
       "        0.9372549 , 0.04313725, 0.        , 0.54117647, 0.99607843,\n",
       "        0.44705882, 0.78431373, 0.98431373, 0.94509804, 0.7254902 ,\n",
       "        0.        , 0.        , 0.        , 0.        , 0.        ,\n",
       "        0.        , 0.        , 0.        ],\n",
       "       [0.        , 0.        , 0.        , 0.        , 0.        ,\n",
       "        0.        , 0.        , 0.        , 0.        , 0.2       ,\n",
       "        1.        , 0.42352941, 0.16470588, 0.99607843, 0.54901961,\n",
       "        0.        , 0.31764706, 1.        , 0.69019608, 1.        ,\n",
       "        0.08627451, 0.        , 0.        , 0.        , 0.        ,\n",
       "        0.        , 0.        , 0.        ],\n",
       "       [0.        , 0.        , 0.        , 0.        , 0.        ,\n",
       "        0.        , 0.        , 0.        , 0.        , 0.        ,\n",
       "        0.71372549, 0.9372549 , 0.59215686, 0.98431373, 0.0745098 ,\n",
       "        0.        , 0.05490196, 0.98823529, 0.71372549, 1.        ,\n",
       "        0.23921569, 0.        , 0.        , 0.        , 0.        ,\n",
       "        0.        , 0.        , 0.        ],\n",
       "       [0.        , 0.        , 0.        , 0.        , 0.        ,\n",
       "        0.        , 0.        , 0.        , 0.        , 0.        ,\n",
       "        0.12941176, 0.96078431, 1.        , 0.7372549 , 0.        ,\n",
       "        0.        , 0.        , 0.81960784, 0.78823529, 1.        ,\n",
       "        0.39215686, 0.        , 0.        , 0.        , 0.        ,\n",
       "        0.        , 0.        , 0.        ],\n",
       "       [0.        , 0.        , 0.        , 0.        , 0.        ,\n",
       "        0.        , 0.        , 0.        , 0.        , 0.        ,\n",
       "        0.        , 0.43137255, 0.93333333, 0.23137255, 0.        ,\n",
       "        0.        , 0.        , 0.59215686, 0.92156863, 0.94117647,\n",
       "        0.54509804, 0.        , 0.        , 0.        , 0.        ,\n",
       "        0.        , 0.        , 0.        ],\n",
       "       [0.        , 0.        , 0.        , 0.        , 0.        ,\n",
       "        0.        , 0.        , 0.        , 0.        , 0.        ,\n",
       "        0.        , 0.        , 0.00784314, 0.        , 0.        ,\n",
       "        0.        , 0.        , 0.36470588, 1.        , 0.91764706,\n",
       "        0.75686275, 0.        , 0.        , 0.        , 0.        ,\n",
       "        0.        , 0.        , 0.        ],\n",
       "       [0.        , 0.        , 0.        , 0.        , 0.        ,\n",
       "        0.        , 0.        , 0.        , 0.        , 0.        ,\n",
       "        0.        , 0.        , 0.        , 0.        , 0.        ,\n",
       "        0.        , 0.        , 0.19215686, 1.        , 0.74901961,\n",
       "        0.99215686, 0.10196078, 0.        , 0.        , 0.        ,\n",
       "        0.        , 0.        , 0.        ],\n",
       "       [0.        , 0.        , 0.        , 0.        , 0.        ,\n",
       "        0.        , 0.        , 0.        , 0.        , 0.        ,\n",
       "        0.        , 0.        , 0.        , 0.        , 0.        ,\n",
       "        0.        , 0.        , 0.18039216, 1.        , 0.54509804,\n",
       "        1.        , 0.23137255, 0.        , 0.        , 0.        ,\n",
       "        0.        , 0.        , 0.        ],\n",
       "       [0.        , 0.        , 0.        , 0.        , 0.        ,\n",
       "        0.        , 0.        , 0.        , 0.        , 0.        ,\n",
       "        0.        , 0.        , 0.        , 0.        , 0.        ,\n",
       "        0.        , 0.        , 0.18039216, 1.        , 0.54117647,\n",
       "        1.        , 0.23137255, 0.        , 0.        , 0.        ,\n",
       "        0.        , 0.        , 0.        ],\n",
       "       [0.        , 0.        , 0.        , 0.        , 0.        ,\n",
       "        0.        , 0.        , 0.        , 0.        , 0.        ,\n",
       "        0.        , 0.        , 0.        , 0.        , 0.        ,\n",
       "        0.        , 0.        , 0.18039216, 1.        , 0.54117647,\n",
       "        1.        , 0.23137255, 0.        , 0.        , 0.        ,\n",
       "        0.        , 0.        , 0.        ],\n",
       "       [0.        , 0.        , 0.        , 0.        , 0.        ,\n",
       "        0.        , 0.        , 0.        , 0.        , 0.        ,\n",
       "        0.        , 0.        , 0.        , 0.        , 0.        ,\n",
       "        0.        , 0.        , 0.18039216, 1.        , 0.54117647,\n",
       "        1.        , 0.23137255, 0.        , 0.        , 0.        ,\n",
       "        0.        , 0.        , 0.        ],\n",
       "       [0.        , 0.        , 0.        , 0.        , 0.        ,\n",
       "        0.        , 0.        , 0.        , 0.        , 0.        ,\n",
       "        0.        , 0.        , 0.        , 0.        , 0.        ,\n",
       "        0.        , 0.        , 0.18039216, 1.        , 0.54117647,\n",
       "        1.        , 0.23137255, 0.        , 0.        , 0.        ,\n",
       "        0.        , 0.        , 0.        ],\n",
       "       [0.        , 0.        , 0.        , 0.        , 0.        ,\n",
       "        0.        , 0.        , 0.        , 0.        , 0.        ,\n",
       "        0.        , 0.        , 0.        , 0.        , 0.        ,\n",
       "        0.        , 0.        , 0.18039216, 1.        , 0.54117647,\n",
       "        1.        , 0.23137255, 0.        , 0.        , 0.        ,\n",
       "        0.        , 0.        , 0.        ],\n",
       "       [0.        , 0.        , 0.        , 0.        , 0.        ,\n",
       "        0.        , 0.        , 0.        , 0.        , 0.        ,\n",
       "        0.        , 0.        , 0.        , 0.        , 0.        ,\n",
       "        0.        , 0.        , 0.18039216, 1.        , 0.54117647,\n",
       "        1.        , 0.23137255, 0.        , 0.        , 0.        ,\n",
       "        0.        , 0.        , 0.        ],\n",
       "       [0.        , 0.        , 0.        , 0.        , 0.        ,\n",
       "        0.        , 0.        , 0.        , 0.        , 0.        ,\n",
       "        0.        , 0.        , 0.        , 0.        , 0.        ,\n",
       "        0.        , 0.        , 0.18039216, 1.        , 0.54117647,\n",
       "        1.        , 0.23137255, 0.        , 0.        , 0.        ,\n",
       "        0.        , 0.        , 0.        ],\n",
       "       [0.        , 0.        , 0.        , 0.        , 0.        ,\n",
       "        0.        , 0.        , 0.        , 0.        , 0.        ,\n",
       "        0.        , 0.        , 0.        , 0.        , 0.        ,\n",
       "        0.        , 0.        , 0.25882353, 1.        , 0.66666667,\n",
       "        1.        , 0.20392157, 0.        , 0.        , 0.        ,\n",
       "        0.        , 0.        , 0.        ],\n",
       "       [0.        , 0.        , 0.        , 0.        , 0.        ,\n",
       "        0.        , 0.        , 0.        , 0.        , 0.        ,\n",
       "        0.        , 0.        , 0.        , 0.        , 0.        ,\n",
       "        0.        , 0.        , 0.40784314, 1.        , 1.        ,\n",
       "        0.85490196, 0.01568627, 0.        , 0.        , 0.        ,\n",
       "        0.        , 0.        , 0.        ],\n",
       "       [0.        , 0.        , 0.        , 0.        , 0.        ,\n",
       "        0.        , 0.        , 0.        , 0.        , 0.        ,\n",
       "        0.        , 0.        , 0.        , 0.        , 0.        ,\n",
       "        0.        , 0.        , 0.10196078, 0.41960784, 0.21176471,\n",
       "        0.01568627, 0.        , 0.        , 0.        , 0.        ,\n",
       "        0.        , 0.        , 0.        ],\n",
       "       [0.        , 0.        , 0.        , 0.        , 0.        ,\n",
       "        0.        , 0.        , 0.        , 0.        , 0.        ,\n",
       "        0.        , 0.        , 0.        , 0.        , 0.        ,\n",
       "        0.        , 0.        , 0.        , 0.        , 0.        ,\n",
       "        0.        , 0.        , 0.        , 0.        , 0.        ,\n",
       "        0.        , 0.        , 0.        ]])"
      ]
     },
     "execution_count": 224,
     "metadata": {},
     "output_type": "execute_result"
    }
   ],
   "source": [
    "x_train[1]"
   ]
  },
  {
   "cell_type": "code",
   "execution_count": 225,
   "metadata": {},
   "outputs": [
    {
     "data": {
      "text/plain": [
       "array([[[255, 255, 255, 255, 255, 255, 255, 255, 255, 255, 254, 254,\n",
       "         255, 251, 252, 255, 254, 255, 255, 255, 255, 255, 255, 255,\n",
       "         255, 255, 255, 255],\n",
       "        [255, 255, 255, 255, 255, 255, 255, 255, 255, 255, 255, 253,\n",
       "         255, 161, 204, 253, 255, 254, 255, 255, 255, 255, 255, 255,\n",
       "         255, 255, 255, 255],\n",
       "        [255, 255, 255, 255, 255, 255, 255, 255, 255, 255, 254, 255,\n",
       "         246,   0,   0, 255, 251, 255, 255, 255, 255, 255, 255, 255,\n",
       "         255, 255, 255, 255],\n",
       "        [255, 255, 255, 255, 255, 255, 255, 255, 255, 255, 252, 255,\n",
       "         189,   3,   0, 255, 253, 254, 255, 255, 255, 255, 255, 255,\n",
       "         255, 255, 255, 255],\n",
       "        [255, 255, 255, 255, 255, 255, 255, 255, 255, 255, 252, 255,\n",
       "         191,   3,   0, 255, 252, 254, 255, 255, 255, 255, 255, 255,\n",
       "         255, 255, 255, 255],\n",
       "        [255, 255, 255, 255, 255, 255, 255, 255, 255, 255, 252, 255,\n",
       "         190,   3,   0, 255, 252, 254, 255, 255, 255, 255, 255, 255,\n",
       "         255, 255, 255, 255],\n",
       "        [255, 255, 255, 255, 255, 255, 255, 255, 255, 255, 252, 255,\n",
       "         190,   3,   0, 255, 252, 254, 255, 255, 255, 255, 255, 255,\n",
       "         255, 255, 255, 255],\n",
       "        [255, 255, 255, 255, 255, 255, 255, 255, 255, 255, 252, 255,\n",
       "         190,   3,   0, 255, 252, 254, 255, 255, 255, 255, 255, 255,\n",
       "         255, 255, 255, 255],\n",
       "        [255, 255, 255, 255, 255, 255, 255, 255, 255, 255, 252, 255,\n",
       "         190,   3,   0, 255, 252, 254, 255, 255, 255, 255, 255, 255,\n",
       "         255, 255, 255, 255],\n",
       "        [255, 255, 255, 255, 255, 255, 255, 255, 255, 255, 252, 255,\n",
       "         189,   3,   0, 255, 253, 254, 255, 255, 255, 255, 255, 255,\n",
       "         255, 255, 255, 255],\n",
       "        [255, 255, 255, 255, 255, 255, 255, 254, 255, 254, 255, 255,\n",
       "         158,   3,   0, 253, 255, 251, 255, 254, 255, 255, 255, 255,\n",
       "         255, 255, 255, 255],\n",
       "        [255, 255, 255, 255, 255, 255, 254, 254, 252, 253, 239, 107,\n",
       "           2,   0,   1,  45, 186, 255, 250, 254, 254, 254, 255, 255,\n",
       "         255, 255, 255, 255],\n",
       "        [255, 255, 255, 255, 255, 254, 255, 254, 255, 255,  27,   0,\n",
       "           0,   0,   0,   0,   0,  94, 255, 254, 255, 255, 255, 255,\n",
       "         255, 255, 255, 255],\n",
       "        [255, 255, 255, 254, 255, 253, 255, 249,   5,   0,   1,   0,\n",
       "           0,   0,   0,   0,   0,   3,   0,  55, 255, 255, 254, 255,\n",
       "         254, 255, 255, 255],\n",
       "        [255, 254, 254, 254, 250, 255, 183,  42,   0,   3,   0,   0,\n",
       "           0,   0,   0,   0,   0,   0,   3,   0, 106, 237, 253, 252,\n",
       "         255, 254, 255, 255],\n",
       "        [254, 254, 251, 255, 148,  16,   1,   2,   0,   0,   3,   2,\n",
       "           0,   0,   0,   0,   3,   2,   0,   0,   4,   0,  66, 207,\n",
       "         255, 251, 255, 254],\n",
       "        [255, 255, 255,  60,   0,   0,   0,   0,   3,   2,   0,   0,\n",
       "          13,   0,   0,   6,   0,   0,   3,   2,   0,   1,   0,   2,\n",
       "         117, 255, 253, 255],\n",
       "        [254, 255, 119,   0,   3,   1,   3,   2,   0,   0,  82, 168,\n",
       "         202,   0,   0, 218, 135,  57,   0,   0,   3,   2,   3,   0,\n",
       "           0, 187, 255, 254],\n",
       "        [254, 241,  19,   0,   0,   0,  81, 160, 255, 255, 251, 255,\n",
       "         222,   0,   0, 255, 250, 254, 255, 255, 138,  61,   0,   0,\n",
       "           2, 100, 255, 254],\n",
       "        [254, 241,   0,  15,  80, 158, 255, 255, 253, 251, 253, 255,\n",
       "         223,   0,   0, 255, 254, 254, 251, 254, 255, 255, 140,  62,\n",
       "           9,  87, 255, 254],\n",
       "        [255, 253, 255, 255, 253, 251, 254, 254, 254, 255, 253, 255,\n",
       "         223,   0,   0, 255, 254, 254, 255, 254, 254, 254, 250, 254,\n",
       "         255, 255, 254, 254],\n",
       "        [255, 255, 253, 253, 254, 254, 254, 255, 255, 254, 253, 255,\n",
       "         222,   0,   0, 255, 253, 254, 255, 255, 255, 254, 254, 254,\n",
       "         253, 254, 255, 255],\n",
       "        [255, 255, 255, 255, 255, 255, 255, 255, 254, 255, 255, 248,\n",
       "          87,   2,   0, 150, 255, 255, 255, 254, 255, 255, 255, 255,\n",
       "         255, 255, 255, 255],\n",
       "        [255, 255, 255, 255, 255, 255, 255, 255, 255, 252, 219,  47,\n",
       "           0,   0,   1,   0, 104, 253, 253, 255, 255, 255, 255, 255,\n",
       "         255, 255, 255, 255],\n",
       "        [255, 255, 255, 255, 255, 255, 255, 255, 252, 255,  11,   0,\n",
       "           5,   2,   3,   3,   0,  60, 255, 253, 255, 255, 255, 255,\n",
       "         255, 255, 255, 255],\n",
       "        [255, 255, 255, 255, 255, 255, 255, 255, 250, 255,   0,   0,\n",
       "          18, 160, 139,   5,   0,   0, 255, 252, 255, 255, 255, 255,\n",
       "         255, 255, 255, 255],\n",
       "        [255, 255, 255, 255, 255, 255, 255, 255, 251, 255,  71, 170,\n",
       "         233, 255, 255, 216, 140,  62, 255, 252, 255, 255, 255, 255,\n",
       "         255, 255, 255, 255],\n",
       "        [255, 255, 255, 255, 255, 255, 255, 255, 255, 254, 253, 251,\n",
       "         253, 255, 254, 253, 250, 254, 254, 255, 255, 255, 255, 255,\n",
       "         255, 255, 255, 255]]], dtype=uint8)"
      ]
     },
     "execution_count": 225,
     "metadata": {},
     "output_type": "execute_result"
    }
   ],
   "source": [
    "data_resize"
   ]
  },
  {
   "cell_type": "code",
   "execution_count": 191,
   "metadata": {},
   "outputs": [],
   "source": [
    "model = tf.keras.models.Sequential([\n",
    "  tf.keras.layers.Flatten(input_shape=(28, 28)),\n",
    "  tf.keras.layers.Dense(128, activation='relu'),\n",
    "  tf.keras.layers.Dropout(0.2),\n",
    "  tf.keras.layers.Dense(5),\n",
    "  tf.keras.layers.Softmax()\n",
    "])\n",
    "\n",
    "loss_fn = tf.keras.losses.SparseCategoricalCrossentropy(from_logits=True)\n"
   ]
  },
  {
   "cell_type": "code",
   "execution_count": 192,
   "metadata": {},
   "outputs": [
    {
     "name": "stdout",
     "output_type": "stream",
     "text": [
      "Epoch 1/10\n",
      "16791/16791 [==============================] - 58s 3ms/step - loss: 0.9994 - accuracy: 0.9089\n",
      "Epoch 2/10\n",
      "16791/16791 [==============================] - 40s 2ms/step - loss: 0.9630 - accuracy: 0.9416\n",
      "Epoch 3/10\n",
      "16791/16791 [==============================] - 39s 2ms/step - loss: 0.9597 - accuracy: 0.9446\n",
      "Epoch 4/10\n",
      "16791/16791 [==============================] - 40s 2ms/step - loss: 0.9567 - accuracy: 0.9477\n",
      "Epoch 5/10\n",
      "16791/16791 [==============================] - 40s 2ms/step - loss: 0.9556 - accuracy: 0.9489\n",
      "Epoch 6/10\n",
      "16791/16791 [==============================] - 41s 2ms/step - loss: 0.9543 - accuracy: 0.9501\n",
      "Epoch 7/10\n",
      "16791/16791 [==============================] - 39s 2ms/step - loss: 0.9539 - accuracy: 0.9505\n",
      "Epoch 8/10\n",
      "16791/16791 [==============================] - 38s 2ms/step - loss: 0.9538 - accuracy: 0.9506\n",
      "Epoch 9/10\n",
      "16791/16791 [==============================] - 38s 2ms/step - loss: 0.9531 - accuracy: 0.9515\n",
      "Epoch 10/10\n",
      "16791/16791 [==============================] - 32s 2ms/step - loss: 0.9536 - accuracy: 0.9509\n"
     ]
    },
    {
     "data": {
      "text/plain": [
       "<tensorflow.python.keras.callbacks.History at 0x7f9047552c10>"
      ]
     },
     "execution_count": 192,
     "metadata": {},
     "output_type": "execute_result"
    }
   ],
   "source": [
    "model.compile(optimizer='adam',\n",
    "              loss=loss_fn,\n",
    "              metrics=['accuracy'])\n",
    "\n",
    "model.fit(x_train, y_train, epochs=10)"
   ]
  },
  {
   "cell_type": "code",
   "execution_count": 193,
   "metadata": {},
   "outputs": [
    {
     "name": "stdout",
     "output_type": "stream",
     "text": [
      "4198/4198 - 3s - loss: 0.9506 - accuracy: 0.9539\n"
     ]
    }
   ],
   "source": [
    "model.evaluate(x_test,  y_test, verbose=2);\n"
   ]
  },
  {
   "cell_type": "code",
   "execution_count": 194,
   "metadata": {},
   "outputs": [],
   "source": [
    "predictions = model.predict(x_test)"
   ]
  },
  {
   "cell_type": "code",
   "execution_count": 214,
   "metadata": {},
   "outputs": [
    {
     "ename": "IndexError",
     "evalue": "index 89 is out of bounds for axis 0 with size 1",
     "output_type": "error",
     "traceback": [
      "\u001b[0;31m---------------------------------------------------------------------------\u001b[0m",
      "\u001b[0;31mIndexError\u001b[0m                                Traceback (most recent call last)",
      "\u001b[0;32m<ipython-input-214-03594da54e97>\u001b[0m in \u001b[0;36m<module>\u001b[0;34m\u001b[0m\n\u001b[1;32m      1\u001b[0m \u001b[0mi\u001b[0m\u001b[0;34m=\u001b[0m\u001b[0;36m89\u001b[0m\u001b[0;34m\u001b[0m\u001b[0;34m\u001b[0m\u001b[0m\n\u001b[0;32m----> 2\u001b[0;31m \u001b[0mprint\u001b[0m\u001b[0;34m(\u001b[0m\u001b[0mlabels\u001b[0m\u001b[0;34m[\u001b[0m\u001b[0mnp\u001b[0m\u001b[0;34m.\u001b[0m\u001b[0margmax\u001b[0m\u001b[0;34m(\u001b[0m\u001b[0mpredictions\u001b[0m\u001b[0;34m[\u001b[0m\u001b[0mi\u001b[0m\u001b[0;34m]\u001b[0m\u001b[0;34m)\u001b[0m\u001b[0;34m]\u001b[0m\u001b[0;34m)\u001b[0m\u001b[0;34m\u001b[0m\u001b[0;34m\u001b[0m\u001b[0m\n\u001b[0m\u001b[1;32m      3\u001b[0m \u001b[0mplt\u001b[0m\u001b[0;34m.\u001b[0m\u001b[0mfigure\u001b[0m\u001b[0;34m(\u001b[0m\u001b[0;34m)\u001b[0m\u001b[0;34m\u001b[0m\u001b[0;34m\u001b[0m\u001b[0m\n\u001b[1;32m      4\u001b[0m \u001b[0mplt\u001b[0m\u001b[0;34m.\u001b[0m\u001b[0mimshow\u001b[0m\u001b[0;34m(\u001b[0m\u001b[0mx_test\u001b[0m\u001b[0;34m[\u001b[0m\u001b[0mi\u001b[0m\u001b[0;34m]\u001b[0m\u001b[0;34m)\u001b[0m\u001b[0;34m\u001b[0m\u001b[0;34m\u001b[0m\u001b[0m\n\u001b[1;32m      5\u001b[0m \u001b[0mplt\u001b[0m\u001b[0;34m.\u001b[0m\u001b[0mshow\u001b[0m\u001b[0;34m(\u001b[0m\u001b[0;34m)\u001b[0m\u001b[0;34m\u001b[0m\u001b[0;34m\u001b[0m\u001b[0m\n",
      "\u001b[0;31mIndexError\u001b[0m: index 89 is out of bounds for axis 0 with size 1"
     ]
    }
   ],
   "source": [
    "i=89\n",
    "print(labels[np.argmax(predictions[i])])\n",
    "plt.figure()\n",
    "plt.imshow(x_test[i])\n",
    "plt.show()"
   ]
  },
  {
   "cell_type": "code",
   "execution_count": 234,
   "metadata": {},
   "outputs": [
    {
     "name": "stdout",
     "output_type": "stream",
     "text": [
      "(40, 40, 4)\n"
     ]
    },
    {
     "data": {
      "image/png": "[encoded data removed]",
      "text/plain": [
       "<Figure size 432x288 with 1 Axes>"
      ]
     },
     "metadata": {
      "needs_background": "light"
     },
     "output_type": "display_data"
    }
   ],
   "source": [
    "#Show PNG\n",
    "image = Image.open('dataset/airplane2.png')\n",
    "# convert image to numpy array\n",
    "data = asarray(image)\n",
    "data = abs(data-255.)/255.\n",
    "\n",
    "# summarize shape\n",
    "print(data.shape)\n",
    "plt.imshow(image)\n",
    "plt.show()\n",
    "\n"
   ]
  },
  {
   "cell_type": "code",
   "execution_count": 233,
   "metadata": {},
   "outputs": [
    {
     "name": "stdout",
     "output_type": "stream",
     "text": [
      "airplane\n",
      "(1, 28, 28)\n"
     ]
    },
    {
     "data": {
      "image/png": "[encoded data removed]",
      "text/plain": [
       "<Figure size 432x288 with 1 Axes>"
      ]
     },
     "metadata": {
      "needs_background": "light"
     },
     "output_type": "display_data"
    }
   ],
   "source": [
    "#Convert png to 28x28 array\n",
    "image = Image.open('dataset/airplane2.png')\n",
    "image_resize = image.resize((28,28))\n",
    "data_resize = asarray(image_resize)\n",
    "data_resize = abs(data_resize-255.)/255.\n",
    "data_resize = data_resize[:, :, 0]\n",
    "data_resize = np.expand_dims(data_resize, axis=0)\n",
    "\n",
    "#Predict png\n",
    "predictions = model.predict(data_resize)\n",
    "print(labels[np.argmax(predictions)])\n",
    "print(data_resize.shape)\n",
    "plt.imshow(image_resize)\n",
    "plt.show()\n"
   ]
  },
  {
   "cell_type": "code",
   "execution_count": null,
   "metadata": {},
   "outputs": [],
   "source": []
  },
  {
   "cell_type": "code",
   "execution_count": null,
   "metadata": {},
   "outputs": [],
   "source": []
  },
  {
   "cell_type": "code",
   "execution_count": null,
   "metadata": {},
   "outputs": [],
   "source": []
  },
  {
   "cell_type": "code",
   "execution_count": null,
   "metadata": {},
   "outputs": [],
   "source": []
  }
 ],
 "metadata": {
  "kernelspec": {
   "display_name": "Python 3",
   "language": "python",
   "name": "python3"
  },
  "language_info": {
   "codemirror_mode": {
    "name": "ipython",
    "version": 3
   },
   "file_extension": ".py",
   "mimetype": "text/x-python",
   "name": "python",
   "nbconvert_exporter": "python",
   "pygments_lexer": "ipython3",
   "version": "3.7.4"
  }
 },
 "nbformat": 4,
 "nbformat_minor": 2
}
