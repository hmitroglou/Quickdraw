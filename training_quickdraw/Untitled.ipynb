{
 "cells": [
  {
   "cell_type": "code",
   "execution_count": null,
   "metadata": {},
   "outputs": [],
   "source": [
    "from urllib.request import Request, urlopen, urlretrieve\n",
    "from bs4 import BeautifulSoup\n",
    "def read_url(url):\n",
    "    url = url.replace(\" \",\"%20\")\n",
    "    req = Request(url)\n",
    "    a = urlopen(req).read()\n",
    "    soup = BeautifulSoup(a, 'html.parser')\n",
    "    x = (soup.find_all('a'))\n",
    "    for i in x:\n",
    "        file_name = i.extract().get_text()\n",
    "        url_new = url + file_name\n",
    "        url_new = url_new.replace(\" \",\"%20\")\n",
    "        if(file_name[-1]=='/' and file_name[0]!='.'):\n",
    "            read_url(url_new)\n",
    "        print(url_new)\n",
    "\n",
    "read_url(\"https://console.cloud.google.com/storage/browser/quickdraw_dataset/full/numpy_bitmap;tab=objects?prefix=&forceOnObjectsSortingFiltering=false\")\n"
   ]
  },
  {
   "cell_type": "code",
   "execution_count": null,
   "metadata": {},
   "outputs": [],
   "source": []
  }
 ],
 "metadata": {
  "kernelspec": {
   "display_name": "Python 3",
   "language": "python",
   "name": "python3"
  },
  "language_info": {
   "codemirror_mode": {
    "name": "ipython",
    "version": 3
   },
   "file_extension": ".py",
   "mimetype": "text/x-python",
   "name": "python",
   "nbconvert_exporter": "python",
   "pygments_lexer": "ipython3",
   "version": "3.7.4"
  }
 },
 "nbformat": 4,
 "nbformat_minor": 2
}
